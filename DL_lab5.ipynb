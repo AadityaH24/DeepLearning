{
  "nbformat": 4,
  "nbformat_minor": 0,
  "metadata": {
    "colab": {
      "name": "DL_lab5.ipynb",
      "provenance": []
    },
    "kernelspec": {
      "name": "python3",
      "display_name": "Python 3"
    },
    "language_info": {
      "name": "python"
    },
    "accelerator": "GPU"
  },
  "cells": [
    {
      "cell_type": "code",
      "metadata": {
        "id": "BrVpmJTFcq_h"
      },
      "source": [
        "import tensorflow as tf\n",
        "from tensorflow.keras import datasets, layers, models\n",
        "import matplotlib.pyplot as plt"
      ],
      "execution_count": null,
      "outputs": []
    },
    {
      "cell_type": "markdown",
      "metadata": {
        "id": "sFil6g-LO3re"
      },
      "source": [
        "Implement CNN for cifar10 dataset, utilize data augmentation for input images and use Pooling Layer."
      ]
    },
    {
      "cell_type": "code",
      "metadata": {
        "colab": {
          "base_uri": "https://localhost:8080/"
        },
        "id": "D-3yL5WeKc2Z",
        "outputId": "be1bbbfe-677a-44ff-a717-850245150b6a"
      },
      "source": [
        "help(tf.keras.preprocessing.image.ImageDataGenerator)"
      ],
      "execution_count": null,
      "outputs": [
        {
          "output_type": "stream",
          "name": "stdout",
          "text": [
            "Help on class ImageDataGenerator in module keras.preprocessing.image:\n",
            "\n",
            "class ImageDataGenerator(keras_preprocessing.image.image_data_generator.ImageDataGenerator)\n",
            " |  ImageDataGenerator(featurewise_center=False, samplewise_center=False, featurewise_std_normalization=False, samplewise_std_normalization=False, zca_whitening=False, zca_epsilon=1e-06, rotation_range=0, width_shift_range=0.0, height_shift_range=0.0, brightness_range=None, shear_range=0.0, zoom_range=0.0, channel_shift_range=0.0, fill_mode='nearest', cval=0.0, horizontal_flip=False, vertical_flip=False, rescale=None, preprocessing_function=None, data_format=None, validation_split=0.0, dtype=None)\n",
            " |  \n",
            " |  Generate batches of tensor image data with real-time data augmentation.\n",
            " |  \n",
            " |   The data will be looped over (in batches).\n",
            " |  \n",
            " |  Args:\n",
            " |      featurewise_center: Boolean.\n",
            " |          Set input mean to 0 over the dataset, feature-wise.\n",
            " |      samplewise_center: Boolean. Set each sample mean to 0.\n",
            " |      featurewise_std_normalization: Boolean.\n",
            " |          Divide inputs by std of the dataset, feature-wise.\n",
            " |      samplewise_std_normalization: Boolean. Divide each input by its std.\n",
            " |      zca_epsilon: epsilon for ZCA whitening. Default is 1e-6.\n",
            " |      zca_whitening: Boolean. Apply ZCA whitening.\n",
            " |      rotation_range: Int. Degree range for random rotations.\n",
            " |      width_shift_range: Float, 1-D array-like or int\n",
            " |          - float: fraction of total width, if < 1, or pixels if >= 1.\n",
            " |          - 1-D array-like: random elements from the array.\n",
            " |          - int: integer number of pixels from interval\n",
            " |              `(-width_shift_range, +width_shift_range)`\n",
            " |          - With `width_shift_range=2` possible values\n",
            " |              are integers `[-1, 0, +1]`,\n",
            " |              same as with `width_shift_range=[-1, 0, +1]`,\n",
            " |              while with `width_shift_range=1.0` possible values are floats\n",
            " |              in the interval [-1.0, +1.0).\n",
            " |      height_shift_range: Float, 1-D array-like or int\n",
            " |          - float: fraction of total height, if < 1, or pixels if >= 1.\n",
            " |          - 1-D array-like: random elements from the array.\n",
            " |          - int: integer number of pixels from interval\n",
            " |              `(-height_shift_range, +height_shift_range)`\n",
            " |          - With `height_shift_range=2` possible values\n",
            " |              are integers `[-1, 0, +1]`,\n",
            " |              same as with `height_shift_range=[-1, 0, +1]`,\n",
            " |              while with `height_shift_range=1.0` possible values are floats\n",
            " |              in the interval [-1.0, +1.0).\n",
            " |      brightness_range: Tuple or list of two floats. Range for picking\n",
            " |          a brightness shift value from.\n",
            " |      shear_range: Float. Shear Intensity\n",
            " |          (Shear angle in counter-clockwise direction in degrees)\n",
            " |      zoom_range: Float or [lower, upper]. Range for random zoom.\n",
            " |          If a float, `[lower, upper] = [1-zoom_range, 1+zoom_range]`.\n",
            " |      channel_shift_range: Float. Range for random channel shifts.\n",
            " |      fill_mode: One of {\"constant\", \"nearest\", \"reflect\" or \"wrap\"}.\n",
            " |          Default is 'nearest'.\n",
            " |          Points outside the boundaries of the input are filled\n",
            " |          according to the given mode:\n",
            " |          - 'constant': kkkkkkkk|abcd|kkkkkkkk (cval=k)\n",
            " |          - 'nearest':  aaaaaaaa|abcd|dddddddd\n",
            " |          - 'reflect':  abcddcba|abcd|dcbaabcd\n",
            " |          - 'wrap':  abcdabcd|abcd|abcdabcd\n",
            " |      cval: Float or Int.\n",
            " |          Value used for points outside the boundaries\n",
            " |          when `fill_mode = \"constant\"`.\n",
            " |      horizontal_flip: Boolean. Randomly flip inputs horizontally.\n",
            " |      vertical_flip: Boolean. Randomly flip inputs vertically.\n",
            " |      rescale: rescaling factor. Defaults to None.\n",
            " |          If None or 0, no rescaling is applied,\n",
            " |          otherwise we multiply the data by the value provided\n",
            " |          (after applying all other transformations).\n",
            " |      preprocessing_function: function that will be applied on each input.\n",
            " |          The function will run after the image is resized and augmented.\n",
            " |          The function should take one argument:\n",
            " |          one image (Numpy tensor with rank 3),\n",
            " |          and should output a Numpy tensor with the same shape.\n",
            " |      data_format: Image data format,\n",
            " |          either \"channels_first\" or \"channels_last\".\n",
            " |          \"channels_last\" mode means that the images should have shape\n",
            " |          `(samples, height, width, channels)`,\n",
            " |          \"channels_first\" mode means that the images should have shape\n",
            " |          `(samples, channels, height, width)`.\n",
            " |          It defaults to the `image_data_format` value found in your\n",
            " |          Keras config file at `~/.keras/keras.json`.\n",
            " |          If you never set it, then it will be \"channels_last\".\n",
            " |      validation_split: Float. Fraction of images reserved for validation\n",
            " |          (strictly between 0 and 1).\n",
            " |      dtype: Dtype to use for the generated arrays.\n",
            " |  \n",
            " |  Raises:\n",
            " |    ValueError: If the value of the argument, `data_format` is other than\n",
            " |          `\"channels_last\"` or `\"channels_first\"`.\n",
            " |    ValueError: If the value of the argument, `validation_split` > 1\n",
            " |          or `validation_split` < 0.\n",
            " |  \n",
            " |  Examples:\n",
            " |  \n",
            " |  Example of using `.flow(x, y)`:\n",
            " |  \n",
            " |  ```python\n",
            " |  (x_train, y_train), (x_test, y_test) = cifar10.load_data()\n",
            " |  y_train = utils.to_categorical(y_train, num_classes)\n",
            " |  y_test = utils.to_categorical(y_test, num_classes)\n",
            " |  datagen = ImageDataGenerator(\n",
            " |      featurewise_center=True,\n",
            " |      featurewise_std_normalization=True,\n",
            " |      rotation_range=20,\n",
            " |      width_shift_range=0.2,\n",
            " |      height_shift_range=0.2,\n",
            " |      horizontal_flip=True,\n",
            " |      validation_split=0.2)\n",
            " |  # compute quantities required for featurewise normalization\n",
            " |  # (std, mean, and principal components if ZCA whitening is applied)\n",
            " |  datagen.fit(x_train)\n",
            " |  # fits the model on batches with real-time data augmentation:\n",
            " |  model.fit(datagen.flow(x_train, y_train, batch_size=32,\n",
            " |           subset='training'),\n",
            " |           validation_data=datagen.flow(x_train, y_train,\n",
            " |           batch_size=8, subset='validation'),\n",
            " |           steps_per_epoch=len(x_train) / 32, epochs=epochs)\n",
            " |  # here's a more \"manual\" example\n",
            " |  for e in range(epochs):\n",
            " |      print('Epoch', e)\n",
            " |      batches = 0\n",
            " |      for x_batch, y_batch in datagen.flow(x_train, y_train, batch_size=32):\n",
            " |          model.fit(x_batch, y_batch)\n",
            " |          batches += 1\n",
            " |          if batches >= len(x_train) / 32:\n",
            " |              # we need to break the loop by hand because\n",
            " |              # the generator loops indefinitely\n",
            " |              break\n",
            " |  ```\n",
            " |  \n",
            " |  Example of using `.flow_from_directory(directory)`:\n",
            " |  \n",
            " |  ```python\n",
            " |  train_datagen = ImageDataGenerator(\n",
            " |          rescale=1./255,\n",
            " |          shear_range=0.2,\n",
            " |          zoom_range=0.2,\n",
            " |          horizontal_flip=True)\n",
            " |  test_datagen = ImageDataGenerator(rescale=1./255)\n",
            " |  train_generator = train_datagen.flow_from_directory(\n",
            " |          'data/train',\n",
            " |          target_size=(150, 150),\n",
            " |          batch_size=32,\n",
            " |          class_mode='binary')\n",
            " |  validation_generator = test_datagen.flow_from_directory(\n",
            " |          'data/validation',\n",
            " |          target_size=(150, 150),\n",
            " |          batch_size=32,\n",
            " |          class_mode='binary')\n",
            " |  model.fit(\n",
            " |          train_generator,\n",
            " |          steps_per_epoch=2000,\n",
            " |          epochs=50,\n",
            " |          validation_data=validation_generator,\n",
            " |          validation_steps=800)\n",
            " |  ```\n",
            " |  \n",
            " |  Example of transforming images and masks together.\n",
            " |  \n",
            " |  ```python\n",
            " |  # we create two instances with the same arguments\n",
            " |  data_gen_args = dict(featurewise_center=True,\n",
            " |                       featurewise_std_normalization=True,\n",
            " |                       rotation_range=90,\n",
            " |                       width_shift_range=0.1,\n",
            " |                       height_shift_range=0.1,\n",
            " |                       zoom_range=0.2)\n",
            " |  image_datagen = ImageDataGenerator(**data_gen_args)\n",
            " |  mask_datagen = ImageDataGenerator(**data_gen_args)\n",
            " |  # Provide the same seed and keyword arguments to the fit and flow methods\n",
            " |  seed = 1\n",
            " |  image_datagen.fit(images, augment=True, seed=seed)\n",
            " |  mask_datagen.fit(masks, augment=True, seed=seed)\n",
            " |  image_generator = image_datagen.flow_from_directory(\n",
            " |      'data/images',\n",
            " |      class_mode=None,\n",
            " |      seed=seed)\n",
            " |  mask_generator = mask_datagen.flow_from_directory(\n",
            " |      'data/masks',\n",
            " |      class_mode=None,\n",
            " |      seed=seed)\n",
            " |  # combine generators into one which yields image and masks\n",
            " |  train_generator = zip(image_generator, mask_generator)\n",
            " |  model.fit(\n",
            " |      train_generator,\n",
            " |      steps_per_epoch=2000,\n",
            " |      epochs=50)\n",
            " |  ```\n",
            " |  \n",
            " |  Method resolution order:\n",
            " |      ImageDataGenerator\n",
            " |      keras_preprocessing.image.image_data_generator.ImageDataGenerator\n",
            " |      builtins.object\n",
            " |  \n",
            " |  Methods defined here:\n",
            " |  \n",
            " |  __init__(self, featurewise_center=False, samplewise_center=False, featurewise_std_normalization=False, samplewise_std_normalization=False, zca_whitening=False, zca_epsilon=1e-06, rotation_range=0, width_shift_range=0.0, height_shift_range=0.0, brightness_range=None, shear_range=0.0, zoom_range=0.0, channel_shift_range=0.0, fill_mode='nearest', cval=0.0, horizontal_flip=False, vertical_flip=False, rescale=None, preprocessing_function=None, data_format=None, validation_split=0.0, dtype=None)\n",
            " |      Initialize self.  See help(type(self)) for accurate signature.\n",
            " |  \n",
            " |  flow(self, x, y=None, batch_size=32, shuffle=True, sample_weight=None, seed=None, save_to_dir=None, save_prefix='', save_format='png', subset=None)\n",
            " |      Takes data & label arrays, generates batches of augmented data.\n",
            " |      \n",
            " |      Args:\n",
            " |          x: Input data. Numpy array of rank 4 or a tuple. If tuple, the first\n",
            " |            element should contain the images and the second element another numpy\n",
            " |            array or a list of numpy arrays that gets passed to the output without\n",
            " |            any modifications. Can be used to feed the model miscellaneous data\n",
            " |            along with the images. In case of grayscale data, the channels axis of\n",
            " |            the image array should have value 1, in case of RGB data, it should\n",
            " |            have value 3, and in case of RGBA data, it should have value 4.\n",
            " |          y: Labels.\n",
            " |          batch_size: Int (default: 32).\n",
            " |          shuffle: Boolean (default: True).\n",
            " |          sample_weight: Sample weights.\n",
            " |          seed: Int (default: None).\n",
            " |          save_to_dir: None or str (default: None). This allows you to optionally\n",
            " |            specify a directory to which to save the augmented pictures being\n",
            " |            generated (useful for visualizing what you are doing).\n",
            " |          save_prefix: Str (default: `''`). Prefix to use for filenames of saved\n",
            " |            pictures (only relevant if `save_to_dir` is set).\n",
            " |          save_format: one of \"png\", \"jpeg\", \"bmp\", \"pdf\", \"ppm\", \"gif\",\n",
            " |              \"tif\", \"jpg\"\n",
            " |              (only relevant if `save_to_dir` is set). Default: \"png\".\n",
            " |          subset: Subset of data (`\"training\"` or `\"validation\"`) if\n",
            " |            `validation_split` is set in `ImageDataGenerator`.\n",
            " |      \n",
            " |      Returns:\n",
            " |          An `Iterator` yielding tuples of `(x, y)`\n",
            " |              where `x` is a numpy array of image data\n",
            " |              (in the case of a single image input) or a list\n",
            " |              of numpy arrays (in the case with\n",
            " |              additional inputs) and `y` is a numpy array\n",
            " |              of corresponding labels. If 'sample_weight' is not None,\n",
            " |              the yielded tuples are of the form `(x, y, sample_weight)`.\n",
            " |              If `y` is None, only the numpy array `x` is returned.\n",
            " |      Raises:\n",
            " |        ValueError: If the Value of the argument, `subset` is other than\n",
            " |              \"training\" or \"validation\".\n",
            " |  \n",
            " |  flow_from_dataframe(self, dataframe, directory=None, x_col='filename', y_col='class', weight_col=None, target_size=(256, 256), color_mode='rgb', classes=None, class_mode='categorical', batch_size=32, shuffle=True, seed=None, save_to_dir=None, save_prefix='', save_format='png', subset=None, interpolation='nearest', validate_filenames=True, **kwargs)\n",
            " |      Takes the dataframe and the path to a directory + generates batches.\n",
            " |      \n",
            " |       The generated batches contain augmented/normalized data.\n",
            " |      \n",
            " |      **A simple tutorial can be found **[here](\n",
            " |                                  http://bit.ly/keras_flow_from_dataframe).\n",
            " |      \n",
            " |      Args:\n",
            " |          dataframe: Pandas dataframe containing the filepaths relative to\n",
            " |            `directory` (or absolute paths if `directory` is None) of the images\n",
            " |            in a string column. It should include other column/s\n",
            " |              depending on the `class_mode`:\n",
            " |              - if `class_mode` is `\"categorical\"` (default value) it must include\n",
            " |                the `y_col` column with the class/es of each image. Values in\n",
            " |                column can be string/list/tuple if a single class or list/tuple if\n",
            " |                multiple classes.\n",
            " |              - if `class_mode` is `\"binary\"` or `\"sparse\"` it must include the\n",
            " |                given `y_col` column with class values as strings.\n",
            " |              - if `class_mode` is `\"raw\"` or `\"multi_output\"` it should contain\n",
            " |                the columns specified in `y_col`.\n",
            " |              - if `class_mode` is `\"input\"` or `None` no extra column is needed.\n",
            " |          directory: string, path to the directory to read images from. If `None`,\n",
            " |            data in `x_col` column should be absolute paths.\n",
            " |          x_col: string, column in `dataframe` that contains the filenames (or\n",
            " |            absolute paths if `directory` is `None`).\n",
            " |          y_col: string or list, column/s in `dataframe` that has the target data.\n",
            " |          weight_col: string, column in `dataframe` that contains the sample\n",
            " |              weights. Default: `None`.\n",
            " |          target_size: tuple of integers `(height, width)`, default: `(256, 256)`.\n",
            " |            The dimensions to which all images found will be resized.\n",
            " |          color_mode: one of \"grayscale\", \"rgb\", \"rgba\". Default: \"rgb\". Whether\n",
            " |            the images will be converted to have 1 or 3 color channels.\n",
            " |          classes: optional list of classes (e.g. `['dogs', 'cats']`). Default is\n",
            " |            None. If not provided, the list of classes will be automatically\n",
            " |            inferred from the `y_col`, which will map to the label indices, will\n",
            " |            be alphanumeric). The dictionary containing the mapping from class\n",
            " |            names to class indices can be obtained via the attribute\n",
            " |            `class_indices`.\n",
            " |          class_mode: one of \"binary\", \"categorical\", \"input\", \"multi_output\",\n",
            " |              \"raw\", sparse\" or None. Default: \"categorical\".\n",
            " |              Mode for yielding the targets:\n",
            " |              - `\"binary\"`: 1D numpy array of binary labels,\n",
            " |              - `\"categorical\"`: 2D numpy array of one-hot encoded labels.\n",
            " |                Supports multi-label output.\n",
            " |              - `\"input\"`: images identical to input images (mainly used to work\n",
            " |                with autoencoders),\n",
            " |              - `\"multi_output\"`: list with the values of the different columns,\n",
            " |              - `\"raw\"`: numpy array of values in `y_col` column(s),\n",
            " |              - `\"sparse\"`: 1D numpy array of integer labels,\n",
            " |              - `None`, no targets are returned (the generator will only yield\n",
            " |                batches of image data, which is useful to use in\n",
            " |                `model.predict()`).\n",
            " |          batch_size: size of the batches of data (default: 32).\n",
            " |          shuffle: whether to shuffle the data (default: True)\n",
            " |          seed: optional random seed for shuffling and transformations.\n",
            " |          save_to_dir: None or str (default: None). This allows you to optionally\n",
            " |            specify a directory to which to save the augmented pictures being\n",
            " |            generated (useful for visualizing what you are doing).\n",
            " |          save_prefix: str. Prefix to use for filenames of saved pictures (only\n",
            " |            relevant if `save_to_dir` is set).\n",
            " |          save_format: one of \"png\", \"jpeg\", \"bmp\", \"pdf\", \"ppm\", \"gif\",\n",
            " |              \"tif\", \"jpg\"\n",
            " |              (only relevant if `save_to_dir` is set). Default: \"png\".\n",
            " |          subset: Subset of data (`\"training\"` or `\"validation\"`) if\n",
            " |            `validation_split` is set in `ImageDataGenerator`.\n",
            " |          interpolation: Interpolation method used to resample the image if the\n",
            " |            target size is different from that of the loaded image. Supported\n",
            " |            methods are `\"nearest\"`, `\"bilinear\"`, and `\"bicubic\"`. If PIL version\n",
            " |            1.1.3 or newer is installed, `\"lanczos\"` is also supported. If PIL\n",
            " |            version 3.4.0 or newer is installed, `\"box\"` and `\"hamming\"` are also\n",
            " |            supported. By default, `\"nearest\"` is used.\n",
            " |          validate_filenames: Boolean, whether to validate image filenames in\n",
            " |            `x_col`. If `True`, invalid images will be ignored. Disabling this\n",
            " |            option can lead to speed-up in the execution of this function.\n",
            " |            Defaults to `True`.\n",
            " |          **kwargs: legacy arguments for raising deprecation warnings.\n",
            " |      \n",
            " |      Returns:\n",
            " |          A `DataFrameIterator` yielding tuples of `(x, y)`\n",
            " |          where `x` is a numpy array containing a batch\n",
            " |          of images with shape `(batch_size, *target_size, channels)`\n",
            " |          and `y` is a numpy array of corresponding labels.\n",
            " |  \n",
            " |  flow_from_directory(self, directory, target_size=(256, 256), color_mode='rgb', classes=None, class_mode='categorical', batch_size=32, shuffle=True, seed=None, save_to_dir=None, save_prefix='', save_format='png', follow_links=False, subset=None, interpolation='nearest')\n",
            " |      Takes the path to a directory & generates batches of augmented data.\n",
            " |      \n",
            " |      Args:\n",
            " |          directory: string, path to the target directory. It should contain one\n",
            " |            subdirectory per class. Any PNG, JPG, BMP, PPM or TIF images inside\n",
            " |            each of the subdirectories directory tree will be included in the\n",
            " |            generator. See [this script](\n",
            " |              https://gist.github.com/fchollet/0830affa1f7f19fd47b06d4cf89ed44d)\n",
            " |                for more details.\n",
            " |          target_size: Tuple of integers `(height, width)`, defaults to `(256,\n",
            " |            256)`. The dimensions to which all images found will be resized.\n",
            " |          color_mode: One of \"grayscale\", \"rgb\", \"rgba\". Default: \"rgb\". Whether\n",
            " |            the images will be converted to have 1, 3, or 4 channels.\n",
            " |          classes: Optional list of class subdirectories\n",
            " |              (e.g. `['dogs', 'cats']`). Default: None. If not provided, the list\n",
            " |                of classes will be automatically inferred from the subdirectory\n",
            " |                names/structure under `directory`, where each subdirectory will be\n",
            " |                treated as a different class (and the order of the classes, which\n",
            " |                will map to the label indices, will be alphanumeric). The\n",
            " |                dictionary containing the mapping from class names to class\n",
            " |                indices can be obtained via the attribute `class_indices`.\n",
            " |          class_mode: One of \"categorical\", \"binary\", \"sparse\",\n",
            " |              \"input\", or None. Default: \"categorical\".\n",
            " |              Determines the type of label arrays that are returned:\n",
            " |              - \"categorical\" will be 2D one-hot encoded labels,\n",
            " |              - \"binary\" will be 1D binary labels,\n",
            " |              - \"sparse\" will be 1D integer labels,\n",
            " |              - \"input\"  will be images identical to input images (mainly used to\n",
            " |                work with autoencoders).\n",
            " |              - If None, no labels are returned (the generator will only yield\n",
            " |                batches of image data, which is useful to use with\n",
            " |                `model.predict()`).\n",
            " |              Please note that in case of class_mode None, the data still needs to\n",
            " |              reside in a subdirectory of `directory` for it to work correctly.\n",
            " |          batch_size: Size of the batches of data (default: 32).\n",
            " |          shuffle: Whether to shuffle the data (default: True) If set to False,\n",
            " |            sorts the data in alphanumeric order.\n",
            " |          seed: Optional random seed for shuffling and transformations.\n",
            " |          save_to_dir: None or str (default: None). This allows you to optionally\n",
            " |            specify a directory to which to save the augmented pictures being\n",
            " |            generated (useful for visualizing what you are doing).\n",
            " |          save_prefix: Str. Prefix to use for filenames of saved pictures (only\n",
            " |            relevant if `save_to_dir` is set).\n",
            " |          save_format: one of \"png\", \"jpeg\", \"bmp\", \"pdf\", \"ppm\", \"gif\",\n",
            " |              \"tif\", \"jpg\"\n",
            " |              (only relevant if `save_to_dir` is set). Default: \"png\".\n",
            " |          follow_links: Whether to follow symlinks inside\n",
            " |              class subdirectories (default: False).\n",
            " |          subset: Subset of data (`\"training\"` or `\"validation\"`) if\n",
            " |            `validation_split` is set in `ImageDataGenerator`.\n",
            " |          interpolation: Interpolation method used to resample the image if the\n",
            " |            target size is different from that of the loaded image. Supported\n",
            " |            methods are `\"nearest\"`, `\"bilinear\"`, and `\"bicubic\"`. If PIL version\n",
            " |            1.1.3 or newer is installed, `\"lanczos\"` is also supported. If PIL\n",
            " |            version 3.4.0 or newer is installed, `\"box\"` and `\"hamming\"` are also\n",
            " |            supported. By default, `\"nearest\"` is used.\n",
            " |      \n",
            " |      Returns:\n",
            " |          A `DirectoryIterator` yielding tuples of `(x, y)`\n",
            " |              where `x` is a numpy array containing a batch\n",
            " |              of images with shape `(batch_size, *target_size, channels)`\n",
            " |              and `y` is a numpy array of corresponding labels.\n",
            " |  \n",
            " |  ----------------------------------------------------------------------\n",
            " |  Methods inherited from keras_preprocessing.image.image_data_generator.ImageDataGenerator:\n",
            " |  \n",
            " |  apply_transform(self, x, transform_parameters)\n",
            " |      Applies a transformation to an image according to given parameters.\n",
            " |      \n",
            " |      # Arguments\n",
            " |          x: 3D tensor, single image.\n",
            " |          transform_parameters: Dictionary with string - parameter pairs\n",
            " |              describing the transformation.\n",
            " |              Currently, the following parameters\n",
            " |              from the dictionary are used:\n",
            " |              - `'theta'`: Float. Rotation angle in degrees.\n",
            " |              - `'tx'`: Float. Shift in the x direction.\n",
            " |              - `'ty'`: Float. Shift in the y direction.\n",
            " |              - `'shear'`: Float. Shear angle in degrees.\n",
            " |              - `'zx'`: Float. Zoom in the x direction.\n",
            " |              - `'zy'`: Float. Zoom in the y direction.\n",
            " |              - `'flip_horizontal'`: Boolean. Horizontal flip.\n",
            " |              - `'flip_vertical'`: Boolean. Vertical flip.\n",
            " |              - `'channel_shift_intensity'`: Float. Channel shift intensity.\n",
            " |              - `'brightness'`: Float. Brightness shift intensity.\n",
            " |      \n",
            " |      # Returns\n",
            " |          A transformed version of the input (same shape).\n",
            " |  \n",
            " |  fit(self, x, augment=False, rounds=1, seed=None)\n",
            " |      Fits the data generator to some sample data.\n",
            " |      \n",
            " |      This computes the internal data stats related to the\n",
            " |      data-dependent transformations, based on an array of sample data.\n",
            " |      \n",
            " |      Only required if `featurewise_center` or\n",
            " |      `featurewise_std_normalization` or `zca_whitening` are set to True.\n",
            " |      \n",
            " |      When `rescale` is set to a value, rescaling is applied to\n",
            " |      sample data before computing the internal data stats.\n",
            " |      \n",
            " |      # Arguments\n",
            " |          x: Sample data. Should have rank 4.\n",
            " |           In case of grayscale data,\n",
            " |           the channels axis should have value 1, in case\n",
            " |           of RGB data, it should have value 3, and in case\n",
            " |           of RGBA data, it should have value 4.\n",
            " |          augment: Boolean (default: False).\n",
            " |              Whether to fit on randomly augmented samples.\n",
            " |          rounds: Int (default: 1).\n",
            " |              If using data augmentation (`augment=True`),\n",
            " |              this is how many augmentation passes over the data to use.\n",
            " |          seed: Int (default: None). Random seed.\n",
            " |  \n",
            " |  get_random_transform(self, img_shape, seed=None)\n",
            " |      Generates random parameters for a transformation.\n",
            " |      \n",
            " |      # Arguments\n",
            " |          seed: Random seed.\n",
            " |          img_shape: Tuple of integers.\n",
            " |              Shape of the image that is transformed.\n",
            " |      \n",
            " |      # Returns\n",
            " |          A dictionary containing randomly chosen parameters describing the\n",
            " |          transformation.\n",
            " |  \n",
            " |  random_transform(self, x, seed=None)\n",
            " |      Applies a random transformation to an image.\n",
            " |      \n",
            " |      # Arguments\n",
            " |          x: 3D tensor, single image.\n",
            " |          seed: Random seed.\n",
            " |      \n",
            " |      # Returns\n",
            " |          A randomly transformed version of the input (same shape).\n",
            " |  \n",
            " |  standardize(self, x)\n",
            " |      Applies the normalization configuration in-place to a batch of inputs.\n",
            " |      \n",
            " |      `x` is changed in-place since the function is mainly used internally\n",
            " |      to standardize images and feed them to your network. If a copy of `x`\n",
            " |      would be created instead it would have a significant performance cost.\n",
            " |      If you want to apply this method without changing the input in-place\n",
            " |      you can call the method creating a copy before:\n",
            " |      \n",
            " |      standardize(np.copy(x))\n",
            " |      \n",
            " |      # Arguments\n",
            " |          x: Batch of inputs to be normalized.\n",
            " |      \n",
            " |      # Returns\n",
            " |          The inputs, normalized.\n",
            " |  \n",
            " |  ----------------------------------------------------------------------\n",
            " |  Data descriptors inherited from keras_preprocessing.image.image_data_generator.ImageDataGenerator:\n",
            " |  \n",
            " |  __dict__\n",
            " |      dictionary for instance variables (if defined)\n",
            " |  \n",
            " |  __weakref__\n",
            " |      list of weak references to the object (if defined)\n",
            "\n"
          ]
        }
      ]
    },
    {
      "cell_type": "markdown",
      "metadata": {
        "id": "EXYqvfRaQiz1"
      },
      "source": [
        "Import Data"
      ]
    },
    {
      "cell_type": "code",
      "metadata": {
        "id": "fy0SIvraaP9P"
      },
      "source": [
        "from tensorflow.keras import utils"
      ],
      "execution_count": null,
      "outputs": []
    },
    {
      "cell_type": "code",
      "metadata": {
        "colab": {
          "base_uri": "https://localhost:8080/"
        },
        "id": "tAZKfcNmKz1L",
        "outputId": "e6a5292e-b541-4db3-d272-18559826d614"
      },
      "source": [
        "(train_images, train_labels), (test_images, test_labels) = datasets.cifar10.load_data()"
      ],
      "execution_count": null,
      "outputs": [
        {
          "output_type": "stream",
          "name": "stdout",
          "text": [
            "Downloading data from https://www.cs.toronto.edu/~kriz/cifar-10-python.tar.gz\n",
            "170500096/170498071 [==============================] - 2s 0us/step\n",
            "170508288/170498071 [==============================] - 2s 0us/step\n"
          ]
        }
      ]
    },
    {
      "cell_type": "code",
      "metadata": {
        "id": "y-Dqo5SEaC28"
      },
      "source": [
        "y_train = utils.to_categorical(train_labels, dtype =\"uint8\")\n",
        "y_test = utils.to_categorical(test_labels, dtype =\"uint8\")"
      ],
      "execution_count": null,
      "outputs": []
    },
    {
      "cell_type": "markdown",
      "metadata": {
        "id": "KlWcqyIgEYx2"
      },
      "source": [
        "Setup data augmentation based on zooming into image and flipping image horizontally using keras image datagen library"
      ]
    },
    {
      "cell_type": "code",
      "metadata": {
        "id": "T3MXX1jqLz_s"
      },
      "source": [
        "# resize with data generator\n",
        "train_datagen_with_transforms = tf.keras.preprocessing.image.ImageDataGenerator(\n",
        "    rescale=1./255,\n",
        "    zoom_range=0.2,\n",
        "    horizontal_flip=True)\n",
        "train_datagen_with_no_transforms = tf.keras.preprocessing.image.ImageDataGenerator(\n",
        "    rescale=1./255)\n",
        "val_datagen = tf.keras.preprocessing.image.ImageDataGenerator(\n",
        "        rescale=1./255)"
      ],
      "execution_count": null,
      "outputs": []
    },
    {
      "cell_type": "code",
      "metadata": {
        "id": "UXnNTeKLXuyO"
      },
      "source": [
        "train_datagen_with_transforms.fit(train_images)\n",
        "train_datagen_with_no_transforms.fit(train_images)\n",
        "val_datagen.fit(test_images)\n"
      ],
      "execution_count": null,
      "outputs": []
    },
    {
      "cell_type": "code",
      "metadata": {
        "id": "-SscDk9DL-R-"
      },
      "source": [
        "train_generator = train_datagen_with_no_transforms.flow(train_images,\n",
        "    y_train,\n",
        "    batch_size=32,\n",
        ")\n",
        "train_generator_with_data_augmentation = train_datagen_with_transforms.flow(train_images,\n",
        "    y_train,\n",
        "    batch_size=32,\n",
        ")\n",
        "validation_generator = val_datagen.flow(test_images,\n",
        "    y_test,\n",
        "    batch_size=32,\n",
        ")"
      ],
      "execution_count": null,
      "outputs": []
    },
    {
      "cell_type": "code",
      "metadata": {
        "id": "cZZPK1_uMsqp"
      },
      "source": [
        "sample_data = next(validation_generator)"
      ],
      "execution_count": null,
      "outputs": []
    },
    {
      "cell_type": "code",
      "metadata": {
        "colab": {
          "base_uri": "https://localhost:8080/"
        },
        "id": "bZ7zecYzTlS3",
        "outputId": "233bce43-e635-4051-8479-08cdc50e9858"
      },
      "source": [
        "sample_data[0].shape"
      ],
      "execution_count": null,
      "outputs": [
        {
          "output_type": "execute_result",
          "data": {
            "text/plain": [
              "(32, 32, 32, 3)"
            ]
          },
          "metadata": {},
          "execution_count": 9
        }
      ]
    },
    {
      "cell_type": "code",
      "metadata": {
        "id": "BWsYzP-5TuOM"
      },
      "source": [
        "model =models.Sequential()\n",
        "model.add(tf.keras.layers.Conv2D(16, (3,3), activation=\"relu\", input_shape=(32,32,3), padding=\"same\"))\n",
        "model.add(tf.keras.layers.Conv2D(16, (3,3), activation=\"relu\", padding=\"same\"))\n",
        "model.add(tf.keras.layers.Flatten())\n",
        "model.add(tf.keras.layers.Dense(64, activation=\"relu\"))\n",
        "model.add(tf.keras.layers.Dense(10))"
      ],
      "execution_count": null,
      "outputs": []
    },
    {
      "cell_type": "code",
      "metadata": {
        "id": "h6bAkv5AWJwz"
      },
      "source": [
        "loss_fn = tf.keras.losses.CategoricalCrossentropy(from_logits=True)"
      ],
      "execution_count": null,
      "outputs": []
    },
    {
      "cell_type": "code",
      "metadata": {
        "id": "RBM5onvBWNYG"
      },
      "source": [
        "optimizer_fn = tf.keras.optimizers.Adam(learning_rate=0.001)"
      ],
      "execution_count": null,
      "outputs": []
    },
    {
      "cell_type": "code",
      "metadata": {
        "id": "tLgWYc1rWOlS"
      },
      "source": [
        "model.compile(optimizer=optimizer_fn,\n",
        "              loss=loss_fn,\n",
        "              metrics=['accuracy'])"
      ],
      "execution_count": null,
      "outputs": []
    },
    {
      "cell_type": "code",
      "metadata": {
        "colab": {
          "base_uri": "https://localhost:8080/"
        },
        "id": "Ra1Ca62MWeGP",
        "outputId": "e1bef209-b580-4324-ac13-aa813f0a5e15"
      },
      "source": [
        "print(len(train_generator),len(train_generator_with_data_augmentation),len(validation_generator))"
      ],
      "execution_count": null,
      "outputs": [
        {
          "output_type": "stream",
          "name": "stdout",
          "text": [
            "1563 1563 313\n"
          ]
        }
      ]
    },
    {
      "cell_type": "code",
      "metadata": {
        "colab": {
          "base_uri": "https://localhost:8080/"
        },
        "id": "dJtt1UBBWQkO",
        "outputId": "25c40d5f-9d5c-4f74-a553-9162bf82dd91"
      },
      "source": [
        "history = model.fit(train_generator, steps_per_epoch=len(train_generator)/32, \n",
        "                    epochs=15, validation_data=validation_generator,validation_steps=len(validation_generator)/32)"
      ],
      "execution_count": null,
      "outputs": [
        {
          "output_type": "stream",
          "name": "stdout",
          "text": [
            "Epoch 1/15\n",
            "48/48 [==============================] - 1s 12ms/step - loss: 2.2152 - accuracy: 0.1939 - val_loss: 2.0535 - val_accuracy: 0.2562\n",
            "Epoch 2/15\n",
            "48/48 [==============================] - 0s 9ms/step - loss: 1.9209 - accuracy: 0.2934 - val_loss: 1.8404 - val_accuracy: 0.3063\n",
            "Epoch 3/15\n",
            "48/48 [==============================] - 0s 9ms/step - loss: 1.8302 - accuracy: 0.3514 - val_loss: 1.7793 - val_accuracy: 0.3844\n",
            "Epoch 4/15\n",
            "48/48 [==============================] - 0s 9ms/step - loss: 1.7620 - accuracy: 0.3629 - val_loss: 1.7594 - val_accuracy: 0.3688\n",
            "Epoch 5/15\n",
            "48/48 [==============================] - 0s 9ms/step - loss: 1.7189 - accuracy: 0.3661 - val_loss: 1.6769 - val_accuracy: 0.4437\n",
            "Epoch 6/15\n",
            "48/48 [==============================] - 0s 9ms/step - loss: 1.6300 - accuracy: 0.4152 - val_loss: 1.5509 - val_accuracy: 0.3875\n",
            "Epoch 7/15\n",
            "48/48 [==============================] - 0s 9ms/step - loss: 1.5625 - accuracy: 0.4477 - val_loss: 1.5306 - val_accuracy: 0.4250\n",
            "Epoch 8/15\n",
            "48/48 [==============================] - 0s 9ms/step - loss: 1.5878 - accuracy: 0.4298 - val_loss: 1.4921 - val_accuracy: 0.4563\n",
            "Epoch 9/15\n",
            "48/48 [==============================] - 0s 9ms/step - loss: 1.5401 - accuracy: 0.4337 - val_loss: 1.5565 - val_accuracy: 0.4625\n",
            "Epoch 10/15\n",
            "48/48 [==============================] - 0s 9ms/step - loss: 1.4785 - accuracy: 0.4617 - val_loss: 1.4942 - val_accuracy: 0.4219\n",
            "Epoch 11/15\n",
            "48/48 [==============================] - 0s 9ms/step - loss: 1.4609 - accuracy: 0.4649 - val_loss: 1.3686 - val_accuracy: 0.5312\n",
            "Epoch 12/15\n",
            "48/48 [==============================] - 0s 9ms/step - loss: 1.4929 - accuracy: 0.4694 - val_loss: 1.5303 - val_accuracy: 0.4656\n",
            "Epoch 13/15\n",
            "48/48 [==============================] - 0s 9ms/step - loss: 1.4208 - accuracy: 0.4885 - val_loss: 1.5093 - val_accuracy: 0.4625\n",
            "Epoch 14/15\n",
            "48/48 [==============================] - 0s 9ms/step - loss: 1.4453 - accuracy: 0.4732 - val_loss: 1.5247 - val_accuracy: 0.4406\n",
            "Epoch 15/15\n",
            "48/48 [==============================] - 0s 9ms/step - loss: 1.4089 - accuracy: 0.4892 - val_loss: 1.3686 - val_accuracy: 0.5094\n"
          ]
        }
      ]
    },
    {
      "cell_type": "code",
      "metadata": {
        "id": "as5El51pdRsx",
        "colab": {
          "base_uri": "https://localhost:8080/",
          "height": 279
        },
        "outputId": "6cc81060-328b-44a6-d0c8-6d56d1231228"
      },
      "source": [
        "figure= plt.figure(figsize=(10,4))\n",
        "ax = plt.subplot(121)\n",
        "ax.plot(history.history['loss'], 'r', label='train')\n",
        "ax.plot(history.history['val_loss'], 'g', label='val')\n",
        "\n",
        "plt.legend()\n",
        "plt.grid(axis='y')\n",
        "plt.xlabel(\"epoch\")\n",
        "plt.ylabel(\"Loss\")\n",
        "\n",
        "ax2 = plt.subplot(122)\n",
        "ax2.plot(history.history['accuracy'], 'b', label=\"train\")\n",
        "ax2.plot(history.history['val_accuracy'], 'g', label=\"val\")\n",
        "plt.legend()\n",
        "plt.xlabel(\"epoch\")\n",
        "plt.ylabel(\"accuracy\")\n",
        "plt.grid(axis='y')\n",
        "plt.savefig(\"cifar10_training_val_no_dropout\")"
      ],
      "execution_count": null,
      "outputs": [
        {
          "output_type": "display_data",
          "data": {
            "image/png": "[encoded data removed]",
            "text/plain": [
              "<Figure size 720x288 with 2 Axes>"
            ]
          },
          "metadata": {
            "needs_background": "light"
          }
        }
      ]
    },
    {
      "cell_type": "markdown",
      "metadata": {
        "id": "QQhojKbjQuNI"
      },
      "source": [
        "Simple CNN gives us accuracy close to 50%"
      ]
    },
    {
      "cell_type": "markdown",
      "metadata": {
        "id": "yfBj9q6Q8ZLs"
      },
      "source": [
        "CNN using Data augmentation Using Data augmentation"
      ]
    },
    {
      "cell_type": "code",
      "metadata": {
        "id": "Va8v2Y3P8T-8"
      },
      "source": [
        "model =models.Sequential()\n",
        "model.add(tf.keras.layers.Conv2D(16, (3,3), activation=\"relu\", input_shape=(32,32,3), padding=\"same\"))\n",
        "model.add(tf.keras.layers.Conv2D(16, (3,3), activation=\"relu\", padding=\"same\"))\n",
        "model.add(tf.keras.layers.Flatten())\n",
        "model.add(tf.keras.layers.Dense(64, activation=\"relu\"))\n",
        "model.add(tf.keras.layers.Dense(10))"
      ],
      "execution_count": null,
      "outputs": []
    },
    {
      "cell_type": "code",
      "metadata": {
        "id": "iuwb-QIR8ap-"
      },
      "source": [
        "loss_fn = tf.keras.losses.CategoricalCrossentropy(from_logits=True)\n",
        "optimizer_fn = tf.keras.optimizers.Adam(learning_rate=0.001)"
      ],
      "execution_count": null,
      "outputs": []
    },
    {
      "cell_type": "code",
      "metadata": {
        "id": "7XzlF8048em-"
      },
      "source": [
        "model.compile(optimizer=optimizer_fn,\n",
        "              loss=loss_fn,\n",
        "              metrics=['accuracy'])"
      ],
      "execution_count": null,
      "outputs": []
    },
    {
      "cell_type": "code",
      "metadata": {
        "colab": {
          "base_uri": "https://localhost:8080/"
        },
        "id": "ddS9p8z-8gc9",
        "outputId": "6f498661-d228-47fb-f454-450406bd9ec3"
      },
      "source": [
        "history = model.fit(train_generator_with_data_augmentation, steps_per_epoch=len(train_generator_with_data_augmentation)/32, \n",
        "                    epochs=15, validation_data=validation_generator,validation_steps=len(validation_generator)/32)"
      ],
      "execution_count": null,
      "outputs": [
        {
          "output_type": "stream",
          "name": "stdout",
          "text": [
            "Epoch 1/15\n",
            "48/48 [==============================] - 2s 28ms/step - loss: 2.1796 - accuracy: 0.1862 - val_loss: 1.9795 - val_accuracy: 0.3250\n",
            "Epoch 2/15\n",
            "48/48 [==============================] - 1s 24ms/step - loss: 1.9108 - accuracy: 0.3036 - val_loss: 1.8510 - val_accuracy: 0.3812\n",
            "Epoch 3/15\n",
            "48/48 [==============================] - 1s 24ms/step - loss: 1.7700 - accuracy: 0.3699 - val_loss: 1.6969 - val_accuracy: 0.4187\n",
            "Epoch 4/15\n",
            "48/48 [==============================] - 1s 24ms/step - loss: 1.7512 - accuracy: 0.3724 - val_loss: 1.5513 - val_accuracy: 0.4531\n",
            "Epoch 5/15\n",
            "48/48 [==============================] - 1s 24ms/step - loss: 1.6694 - accuracy: 0.3903 - val_loss: 1.6444 - val_accuracy: 0.3750\n",
            "Epoch 6/15\n",
            "48/48 [==============================] - 1s 24ms/step - loss: 1.5746 - accuracy: 0.4267 - val_loss: 1.4557 - val_accuracy: 0.4781\n",
            "Epoch 7/15\n",
            "48/48 [==============================] - 1s 24ms/step - loss: 1.5796 - accuracy: 0.4369 - val_loss: 1.4517 - val_accuracy: 0.4844\n",
            "Epoch 8/15\n",
            "48/48 [==============================] - 1s 24ms/step - loss: 1.5103 - accuracy: 0.4630 - val_loss: 1.4526 - val_accuracy: 0.4781\n",
            "Epoch 9/15\n",
            "48/48 [==============================] - 1s 24ms/step - loss: 1.5770 - accuracy: 0.4330 - val_loss: 1.4967 - val_accuracy: 0.4500\n",
            "Epoch 10/15\n",
            "48/48 [==============================] - 1s 24ms/step - loss: 1.5482 - accuracy: 0.4713 - val_loss: 1.6925 - val_accuracy: 0.3750\n",
            "Epoch 11/15\n",
            "48/48 [==============================] - 1s 25ms/step - loss: 1.4709 - accuracy: 0.4732 - val_loss: 1.4021 - val_accuracy: 0.5063\n",
            "Epoch 12/15\n",
            "48/48 [==============================] - 1s 24ms/step - loss: 1.5491 - accuracy: 0.4554 - val_loss: 1.5266 - val_accuracy: 0.4437\n",
            "Epoch 13/15\n",
            "48/48 [==============================] - 1s 24ms/step - loss: 1.4889 - accuracy: 0.4605 - val_loss: 1.4075 - val_accuracy: 0.5188\n",
            "Epoch 14/15\n",
            "48/48 [==============================] - 1s 24ms/step - loss: 1.4048 - accuracy: 0.5134 - val_loss: 1.4161 - val_accuracy: 0.5000\n",
            "Epoch 15/15\n",
            "48/48 [==============================] - 1s 24ms/step - loss: 1.4291 - accuracy: 0.4923 - val_loss: 1.3170 - val_accuracy: 0.5063\n"
          ]
        }
      ]
    },
    {
      "cell_type": "code",
      "metadata": {
        "colab": {
          "base_uri": "https://localhost:8080/",
          "height": 279
        },
        "id": "rnffVFHh8oTb",
        "outputId": "2bea2121-0865-425d-bed1-0ae09fd85c4b"
      },
      "source": [
        "figure= plt.figure(figsize=(10,4))\n",
        "ax = plt.subplot(121)\n",
        "ax.plot(history.history['loss'], 'r', label='train')\n",
        "ax.plot(history.history['val_loss'], 'g', label='val')\n",
        "\n",
        "plt.legend()\n",
        "plt.grid(axis='y')\n",
        "plt.xlabel(\"epoch\")\n",
        "plt.ylabel(\"Loss\")\n",
        "\n",
        "ax2 = plt.subplot(122)\n",
        "ax2.plot(history.history['accuracy'], 'b', label=\"train\")\n",
        "ax2.plot(history.history['val_accuracy'], 'g', label=\"val\")\n",
        "plt.legend()\n",
        "plt.xlabel(\"epoch\")\n",
        "plt.ylabel(\"accuracy\")\n",
        "plt.grid(axis='y')\n",
        "plt.savefig(\"cifar10_training_val_data_augmentation\")"
      ],
      "execution_count": null,
      "outputs": [
        {
          "output_type": "display_data",
          "data": {
            "image/png": "[encoded data removed]",
            "text/plain": [
              "<Figure size 720x288 with 2 Axes>"
            ]
          },
          "metadata": {
            "needs_background": "light"
          }
        }
      ]
    },
    {
      "cell_type": "markdown",
      "metadata": {
        "id": "9Y4WTCy4Q3e-"
      },
      "source": [
        "Using Augmented data we were able to get more consistent accuracy values and the accuracies of the model increased faster near the beginning"
      ]
    },
    {
      "cell_type": "markdown",
      "metadata": {
        "id": "FQzN29Q_93Ev"
      },
      "source": [
        "With max pooling"
      ]
    },
    {
      "cell_type": "code",
      "metadata": {
        "id": "LmfZHI0g9AQr"
      },
      "source": [
        "model2 =models.Sequential()\n",
        "model2.add(tf.keras.layers.Conv2D(16, (3,3), activation=\"relu\", input_shape=(32,32,3), padding=\"same\"))\n",
        "model2.add(tf.keras.layers.MaxPooling2D(2,2))\n",
        "model2.add(tf.keras.layers.Conv2D(16, (3,3), activation=\"relu\", padding=\"same\"))\n",
        "model2.add(tf.keras.layers.Flatten())\n",
        "model2.add(tf.keras.layers.Dropout(0.4))\n",
        "model2.add(tf.keras.layers.Dense(64, activation=\"relu\"))\n",
        "model2.add(tf.keras.layers.Dense(10))"
      ],
      "execution_count": null,
      "outputs": []
    },
    {
      "cell_type": "code",
      "metadata": {
        "id": "V6hBgomC96gc"
      },
      "source": [
        "model2.compile(optimizer=optimizer_fn,\n",
        "              loss=loss_fn,\n",
        "              metrics=['accuracy'])"
      ],
      "execution_count": null,
      "outputs": []
    },
    {
      "cell_type": "code",
      "metadata": {
        "colab": {
          "base_uri": "https://localhost:8080/"
        },
        "id": "W9BObmli98aR",
        "outputId": "2cec63a5-266b-49e9-9556-9f9d0257830b"
      },
      "source": [
        "history = model.fit(train_generator, steps_per_epoch=len(train_generator)/32, \n",
        "                    epochs=15, validation_data=validation_generator,validation_steps=len(validation_generator)/32)"
      ],
      "execution_count": null,
      "outputs": [
        {
          "output_type": "stream",
          "name": "stdout",
          "text": [
            "Epoch 1/15\n",
            "48/48 [==============================] - 0s 10ms/step - loss: 1.2528 - accuracy: 0.5612 - val_loss: 1.3029 - val_accuracy: 0.5375\n",
            "Epoch 2/15\n",
            "48/48 [==============================] - 0s 9ms/step - loss: 1.2655 - accuracy: 0.5453 - val_loss: 1.4031 - val_accuracy: 0.5031\n",
            "Epoch 3/15\n",
            "48/48 [==============================] - 0s 9ms/step - loss: 1.2079 - accuracy: 0.5606 - val_loss: 1.3234 - val_accuracy: 0.5156\n",
            "Epoch 4/15\n",
            "48/48 [==============================] - 0s 9ms/step - loss: 1.2703 - accuracy: 0.5529 - val_loss: 1.3719 - val_accuracy: 0.5000\n",
            "Epoch 5/15\n",
            "48/48 [==============================] - 0s 9ms/step - loss: 1.1864 - accuracy: 0.5772 - val_loss: 1.1972 - val_accuracy: 0.5906\n",
            "Epoch 6/15\n",
            "48/48 [==============================] - 0s 9ms/step - loss: 1.1506 - accuracy: 0.5944 - val_loss: 1.2731 - val_accuracy: 0.5375\n",
            "Epoch 7/15\n",
            "48/48 [==============================] - 0s 9ms/step - loss: 1.1118 - accuracy: 0.6027 - val_loss: 1.2102 - val_accuracy: 0.5688\n",
            "Epoch 8/15\n",
            "48/48 [==============================] - 0s 9ms/step - loss: 1.1434 - accuracy: 0.6008 - val_loss: 1.1977 - val_accuracy: 0.5844\n",
            "Epoch 9/15\n",
            "48/48 [==============================] - 0s 9ms/step - loss: 1.2069 - accuracy: 0.5765 - val_loss: 1.2635 - val_accuracy: 0.5500\n",
            "Epoch 10/15\n",
            "48/48 [==============================] - 0s 9ms/step - loss: 1.0863 - accuracy: 0.6301 - val_loss: 1.2308 - val_accuracy: 0.5875\n",
            "Epoch 11/15\n",
            "48/48 [==============================] - 0s 9ms/step - loss: 1.1836 - accuracy: 0.5963 - val_loss: 1.0794 - val_accuracy: 0.5906\n",
            "Epoch 12/15\n",
            "48/48 [==============================] - 0s 10ms/step - loss: 1.1405 - accuracy: 0.5963 - val_loss: 1.2246 - val_accuracy: 0.5594\n",
            "Epoch 13/15\n",
            "48/48 [==============================] - 0s 10ms/step - loss: 1.1203 - accuracy: 0.6161 - val_loss: 1.2281 - val_accuracy: 0.5594\n",
            "Epoch 14/15\n",
            "48/48 [==============================] - 0s 9ms/step - loss: 1.0994 - accuracy: 0.6231 - val_loss: 1.1431 - val_accuracy: 0.5969\n",
            "Epoch 15/15\n",
            "48/48 [==============================] - 0s 9ms/step - loss: 1.1086 - accuracy: 0.6014 - val_loss: 1.3157 - val_accuracy: 0.5406\n"
          ]
        }
      ]
    },
    {
      "cell_type": "code",
      "metadata": {
        "colab": {
          "base_uri": "https://localhost:8080/",
          "height": 279
        },
        "id": "IM5T915Z-ESC",
        "outputId": "e36e251f-e822-4586-f115-a18c69eebbb3"
      },
      "source": [
        "figure= plt.figure(figsize=(10,4))\n",
        "ax = plt.subplot(121)\n",
        "ax.plot(history.history['loss'], 'r', label='train')\n",
        "ax.plot(history.history['val_loss'], 'g', label='val')\n",
        "\n",
        "plt.legend()\n",
        "plt.grid(axis='y')\n",
        "plt.xlabel(\"epoch\")\n",
        "plt.ylabel(\"Loss\")\n",
        "\n",
        "ax2 = plt.subplot(122)\n",
        "ax2.plot(history.history['accuracy'], 'b', label=\"train\")\n",
        "ax2.plot(history.history['val_accuracy'], 'g', label=\"val\")\n",
        "plt.legend()\n",
        "plt.xlabel(\"epoch\")\n",
        "plt.ylabel(\"accuracy\")\n",
        "plt.grid(axis='y')\n",
        "plt.savefig(\"cifar10_training_val_with0_dropout_maxpool\")"
      ],
      "execution_count": null,
      "outputs": [
        {
          "output_type": "display_data",
          "data": {
            "image/png": "[encoded data removed]",
            "text/plain": [
              "<Figure size 720x288 with 2 Axes>"
            ]
          },
          "metadata": {
            "needs_background": "light"
          }
        }
      ]
    },
    {
      "cell_type": "markdown",
      "metadata": {
        "id": "IAL8FbgXE_Ky"
      },
      "source": [
        "With only max pooling we get higher accuracy overall but validation loss is always higher and val accuracy is almost always 0.02 points below training accuracy. We can combine both data augmentation and pooling which can bring them both closer."
      ]
    },
    {
      "cell_type": "markdown",
      "metadata": {
        "id": "EhadNwla-LWN"
      },
      "source": [
        "Max Pooling and data aug"
      ]
    },
    {
      "cell_type": "code",
      "metadata": {
        "id": "Lyx-QjSK-FAW"
      },
      "source": [
        "model2 =models.Sequential()\n",
        "model2.add(tf.keras.layers.Conv2D(16, (3,3), activation=\"relu\", input_shape=(32,32,3), padding=\"same\"))\n",
        "model2.add(tf.keras.layers.MaxPooling2D(2,2))\n",
        "model2.add(tf.keras.layers.Conv2D(16, (3,3), activation=\"relu\", padding=\"same\"))\n",
        "model2.add(tf.keras.layers.Flatten())\n",
        "model2.add(tf.keras.layers.Dropout(0.4))\n",
        "model2.add(tf.keras.layers.Dense(64, activation=\"relu\"))\n",
        "model2.add(tf.keras.layers.Dense(10))"
      ],
      "execution_count": null,
      "outputs": []
    },
    {
      "cell_type": "code",
      "metadata": {
        "id": "gqcBwua0-NF0"
      },
      "source": [
        "model2.compile(optimizer=optimizer_fn,\n",
        "              loss=loss_fn,\n",
        "              metrics=['accuracy'])"
      ],
      "execution_count": null,
      "outputs": []
    },
    {
      "cell_type": "code",
      "metadata": {
        "colab": {
          "base_uri": "https://localhost:8080/"
        },
        "id": "Row92K0j-P6v",
        "outputId": "797bdccd-746f-4335-9002-04f5c03d707f"
      },
      "source": [
        "history = model.fit(train_generator_with_data_augmentation, steps_per_epoch=len(train_generator_with_data_augmentation)/32, \n",
        "                    epochs=15, validation_data=validation_generator,validation_steps=len(validation_generator)/32)"
      ],
      "execution_count": null,
      "outputs": [
        {
          "output_type": "stream",
          "name": "stdout",
          "text": [
            "Epoch 1/15\n",
            "48/48 [==============================] - 1s 25ms/step - loss: 1.4087 - accuracy: 0.5115 - val_loss: 1.4568 - val_accuracy: 0.4750\n",
            "Epoch 2/15\n",
            "48/48 [==============================] - 1s 24ms/step - loss: 1.4601 - accuracy: 0.4898 - val_loss: 1.4557 - val_accuracy: 0.4688\n",
            "Epoch 3/15\n",
            "48/48 [==============================] - 1s 24ms/step - loss: 1.4643 - accuracy: 0.4770 - val_loss: 1.4435 - val_accuracy: 0.4719\n",
            "Epoch 4/15\n",
            "48/48 [==============================] - 1s 24ms/step - loss: 1.4228 - accuracy: 0.4929 - val_loss: 1.3551 - val_accuracy: 0.5125\n",
            "Epoch 5/15\n",
            "48/48 [==============================] - 1s 24ms/step - loss: 1.3847 - accuracy: 0.4968 - val_loss: 1.4326 - val_accuracy: 0.4812\n",
            "Epoch 6/15\n",
            "48/48 [==============================] - 1s 24ms/step - loss: 1.3837 - accuracy: 0.5089 - val_loss: 1.4221 - val_accuracy: 0.4688\n",
            "Epoch 7/15\n",
            "48/48 [==============================] - 1s 24ms/step - loss: 1.3720 - accuracy: 0.5096 - val_loss: 1.2877 - val_accuracy: 0.5531\n",
            "Epoch 8/15\n",
            "48/48 [==============================] - 1s 24ms/step - loss: 1.3056 - accuracy: 0.5230 - val_loss: 1.4033 - val_accuracy: 0.5000\n",
            "Epoch 9/15\n",
            "48/48 [==============================] - 1s 24ms/step - loss: 1.3109 - accuracy: 0.5230 - val_loss: 1.3730 - val_accuracy: 0.5063\n",
            "Epoch 10/15\n",
            "48/48 [==============================] - 1s 23ms/step - loss: 1.3691 - accuracy: 0.5038 - val_loss: 1.3757 - val_accuracy: 0.5156\n",
            "Epoch 11/15\n",
            "48/48 [==============================] - 1s 24ms/step - loss: 1.3832 - accuracy: 0.4974 - val_loss: 1.1978 - val_accuracy: 0.5906\n",
            "Epoch 12/15\n",
            "48/48 [==============================] - 1s 24ms/step - loss: 1.2701 - accuracy: 0.5440 - val_loss: 1.2335 - val_accuracy: 0.5406\n",
            "Epoch 13/15\n",
            "48/48 [==============================] - 1s 24ms/step - loss: 1.3625 - accuracy: 0.5013 - val_loss: 1.2601 - val_accuracy: 0.5344\n",
            "Epoch 14/15\n",
            "48/48 [==============================] - 1s 24ms/step - loss: 1.2911 - accuracy: 0.5483 - val_loss: 1.3515 - val_accuracy: 0.4938\n",
            "Epoch 15/15\n",
            "48/48 [==============================] - 1s 23ms/step - loss: 1.3330 - accuracy: 0.5287 - val_loss: 1.3213 - val_accuracy: 0.5531\n"
          ]
        }
      ]
    },
    {
      "cell_type": "code",
      "metadata": {
        "id": "d1W6YNBj-eXl",
        "colab": {
          "base_uri": "https://localhost:8080/",
          "height": 279
        },
        "outputId": "cdf35e2c-35d3-479e-be70-281dd23af0ee"
      },
      "source": [
        "figure= plt.figure(figsize=(10,4))\n",
        "ax = plt.subplot(121)\n",
        "ax.plot(history.history['loss'], 'r', label='train')\n",
        "ax.plot(history.history['val_loss'], 'g', label='val')\n",
        "\n",
        "plt.legend()\n",
        "plt.grid(axis='y')\n",
        "plt.xlabel(\"epoch\")\n",
        "plt.ylabel(\"Loss\")\n",
        "\n",
        "ax2 = plt.subplot(122)\n",
        "ax2.plot(history.history['accuracy'], 'b', label=\"train\")\n",
        "ax2.plot(history.history['val_accuracy'], 'g', label=\"val\")\n",
        "plt.legend()\n",
        "plt.xlabel(\"epoch\")\n",
        "plt.ylabel(\"accuracy\")\n",
        "plt.grid(axis='y')\n",
        "plt.savefig(\"cifar10_training_val_with0_maxpool_dropout_augmentation\")"
      ],
      "execution_count": null,
      "outputs": [
        {
          "output_type": "display_data",
          "data": {
            "image/png": "[encoded data removed]",
            "text/plain": [
              "<Figure size 720x288 with 2 Axes>"
            ]
          },
          "metadata": {
            "needs_background": "light"
          }
        }
      ]
    },
    {
      "cell_type": "markdown",
      "metadata": {
        "id": "qEW_ucGyRRPq"
      },
      "source": [
        "Combining Max pooling layers and augmented data gave us the best result where we reached a highest of 55% accuracy on given dataset.<br> We can conclude that utilizing max pooling and data augmentation improved the effectiveness of our model."
      ]
    },
    {
      "cell_type": "markdown",
      "metadata": {
        "id": "1As25Xs6Rrb-"
      },
      "source": [
        "Thus, we successfully implemented a CNN for modelling the cifar10 dataset. We can see that in all the models the accuracy and loss values jump erratically which could be a result of small batch size, Additionally as loss continues to decrease we can also increase number of epochs."
      ]
    },
    {
      "cell_type": "code",
      "metadata": {
        "id": "KIV4vwv0Rqnl"
      },
      "source": [
        ""
      ],
      "execution_count": null,
      "outputs": []
    }
  ]
}