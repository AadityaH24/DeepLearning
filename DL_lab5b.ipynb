{
  "nbformat": 4,
  "nbformat_minor": 0,
  "metadata": {
    "colab": {
      "name": "DL_lab5b.ipynb",
      "provenance": [],
      "collapsed_sections": []
    },
    "kernelspec": {
      "name": "python3",
      "display_name": "Python 3"
    },
    "language_info": {
      "name": "python"
    }
  },
  "cells": [
    {
      "cell_type": "markdown",
      "source": [
        "Convolution Neural Networks"
      ],
      "metadata": {
        "id": "MUm2d4SamwnW"
      }
    },
    {
      "cell_type": "code",
      "metadata": {
        "id": "kpUKLDWW1gBc"
      },
      "source": [
        "import tensorflow as tf\n",
        "from tensorflow.keras import datasets, layers, models\n",
        "import matplotlib.pyplot as plt\n",
        "from tensorflow.keras import utils"
      ],
      "execution_count": null,
      "outputs": []
    },
    {
      "cell_type": "code",
      "metadata": {
        "id": "4TRo8fP_-oaX"
      },
      "source": [
        "import tensorflow as tf\n",
        "from tensorflow.keras import datasets, layers, models\n",
        "import matplotlib.pyplot as plt\n",
        "import pandas as pd\n",
        "import numpy as np\n",
        "import sys\n",
        "import os\n",
        "import random"
      ],
      "execution_count": null,
      "outputs": []
    },
    {
      "cell_type": "code",
      "metadata": {
        "id": "bbG-SCrtVhKs"
      },
      "source": [
        "import zipfile\n",
        "import os\n",
        "import glob"
      ],
      "execution_count": null,
      "outputs": []
    },
    {
      "cell_type": "code",
      "metadata": {
        "id": "To-Hgvh4-rmR"
      },
      "source": [
        "from tensorflow.keras import utils\n",
        "import inspect"
      ],
      "execution_count": null,
      "outputs": []
    },
    {
      "cell_type": "markdown",
      "metadata": {
        "id": "ul_Cn0Tc1fbN"
      },
      "source": [
        "Importing Data and simple preprocessing."
      ]
    },
    {
      "cell_type": "code",
      "metadata": {
        "id": "wXfbZu4AVgt0"
      },
      "source": [
        "zip_ref = zipfile.ZipFile('/content/drive/MyDrive/datasets/Bees.zip', 'r') #Opens the zip file in read mode\n",
        "zip_ref.extractall('/content/drive/MyDrive/datasets/tmp') #Extracts the files into the /tmp folder\n",
        "zip_ref.close()"
      ],
      "execution_count": null,
      "outputs": []
    },
    {
      "cell_type": "code",
      "metadata": {
        "colab": {
          "base_uri": "https://localhost:8080/",
          "height": 203
        },
        "id": "7u9lLsudTHQx",
        "outputId": "49b23265-538f-4bab-d972-ace9b308cfab"
      },
      "source": [
        "bees_txt=pd.read_csv('/content/drive/MyDrive/datasets/bee_data.csv')\n",
        "bees_txt.head()"
      ],
      "execution_count": null,
      "outputs": [
        {
          "output_type": "execute_result",
          "data": {
            "text/html": [
              "<div>\n",
              "<style scoped>\n",
              "    .dataframe tbody tr th:only-of-type {\n",
              "        vertical-align: middle;\n",
              "    }\n",
              "\n",
              "    .dataframe tbody tr th {\n",
              "        vertical-align: top;\n",
              "    }\n",
              "\n",
              "    .dataframe thead th {\n",
              "        text-align: right;\n",
              "    }\n",
              "</style>\n",
              "<table border=\"1\" class=\"dataframe\">\n",
              "  <thead>\n",
              "    <tr style=\"text-align: right;\">\n",
              "      <th></th>\n",
              "      <th>file</th>\n",
              "      <th>date</th>\n",
              "      <th>time</th>\n",
              "      <th>location</th>\n",
              "      <th>zip code</th>\n",
              "      <th>subspecies</th>\n",
              "      <th>health</th>\n",
              "      <th>pollen_carrying</th>\n",
              "      <th>caste</th>\n",
              "    </tr>\n",
              "  </thead>\n",
              "  <tbody>\n",
              "    <tr>\n",
              "      <th>0</th>\n",
              "      <td>041_066.png</td>\n",
              "      <td>8/28/18</td>\n",
              "      <td>16:07</td>\n",
              "      <td>Alvin, TX, USA</td>\n",
              "      <td>77511</td>\n",
              "      <td>-1</td>\n",
              "      <td>hive being robbed</td>\n",
              "      <td>False</td>\n",
              "      <td>worker</td>\n",
              "    </tr>\n",
              "    <tr>\n",
              "      <th>1</th>\n",
              "      <td>041_072.png</td>\n",
              "      <td>8/28/18</td>\n",
              "      <td>16:07</td>\n",
              "      <td>Alvin, TX, USA</td>\n",
              "      <td>77511</td>\n",
              "      <td>-1</td>\n",
              "      <td>hive being robbed</td>\n",
              "      <td>False</td>\n",
              "      <td>worker</td>\n",
              "    </tr>\n",
              "    <tr>\n",
              "      <th>2</th>\n",
              "      <td>041_073.png</td>\n",
              "      <td>8/28/18</td>\n",
              "      <td>16:07</td>\n",
              "      <td>Alvin, TX, USA</td>\n",
              "      <td>77511</td>\n",
              "      <td>-1</td>\n",
              "      <td>hive being robbed</td>\n",
              "      <td>False</td>\n",
              "      <td>worker</td>\n",
              "    </tr>\n",
              "    <tr>\n",
              "      <th>3</th>\n",
              "      <td>041_067.png</td>\n",
              "      <td>8/28/18</td>\n",
              "      <td>16:07</td>\n",
              "      <td>Alvin, TX, USA</td>\n",
              "      <td>77511</td>\n",
              "      <td>-1</td>\n",
              "      <td>hive being robbed</td>\n",
              "      <td>False</td>\n",
              "      <td>worker</td>\n",
              "    </tr>\n",
              "    <tr>\n",
              "      <th>4</th>\n",
              "      <td>041_059.png</td>\n",
              "      <td>8/28/18</td>\n",
              "      <td>16:07</td>\n",
              "      <td>Alvin, TX, USA</td>\n",
              "      <td>77511</td>\n",
              "      <td>-1</td>\n",
              "      <td>hive being robbed</td>\n",
              "      <td>False</td>\n",
              "      <td>worker</td>\n",
              "    </tr>\n",
              "  </tbody>\n",
              "</table>\n",
              "</div>"
            ],
            "text/plain": [
              "          file     date   time  ...             health  pollen_carrying   caste\n",
              "0  041_066.png  8/28/18  16:07  ...  hive being robbed            False  worker\n",
              "1  041_072.png  8/28/18  16:07  ...  hive being robbed            False  worker\n",
              "2  041_073.png  8/28/18  16:07  ...  hive being robbed            False  worker\n",
              "3  041_067.png  8/28/18  16:07  ...  hive being robbed            False  worker\n",
              "4  041_059.png  8/28/18  16:07  ...  hive being robbed            False  worker\n",
              "\n",
              "[5 rows x 9 columns]"
            ]
          },
          "metadata": {},
          "execution_count": 8
        }
      ]
    },
    {
      "cell_type": "code",
      "metadata": {
        "colab": {
          "base_uri": "https://localhost:8080/",
          "height": 81
        },
        "id": "iVxV45-7W5kl",
        "outputId": "a6f3701a-28ea-4b6d-955c-bc0814360e08"
      },
      "source": [
        "from IPython.display import Image\n",
        "Image(\"/content/drive/MyDrive/datasets/tmp/bee_imgs/bee_imgs/001_043.png\")"
      ],
      "execution_count": null,
      "outputs": [
        {
          "output_type": "execute_result",
          "data": {
            "image/png": "[encoded data removed]",
            "text/plain": [
              "<IPython.core.display.Image object>"
            ]
          },
          "metadata": {},
          "execution_count": 49
        }
      ]
    },
    {
      "cell_type": "code",
      "metadata": {
        "colab": {
          "base_uri": "https://localhost:8080/"
        },
        "id": "o5LmOlrOW7Oc",
        "outputId": "98c65709-94d2-4805-90f7-5c9ecf7b2817"
      },
      "source": [
        "image_files = list(os.listdir('/content/drive/MyDrive/datasets/tmp/bee_imgs/bee_imgs/'))\n",
        "print(len(image_files))"
      ],
      "execution_count": null,
      "outputs": [
        {
          "output_type": "stream",
          "name": "stdout",
          "text": [
            "5172\n"
          ]
        }
      ]
    },
    {
      "cell_type": "code",
      "metadata": {
        "colab": {
          "base_uri": "https://localhost:8080/"
        },
        "id": "DRzNQ2hdla65",
        "outputId": "b7a33dfc-ce73-48fc-b1a6-c6a459966abf"
      },
      "source": [
        "file_names = list(bees_txt['file'])\n",
        "print(\"Matching image names: {}\".format(len(set(file_names).intersection(image_files))))"
      ],
      "execution_count": null,
      "outputs": [
        {
          "output_type": "stream",
          "name": "stdout",
          "text": [
            "Matching image names: 5172\n"
          ]
        }
      ]
    },
    {
      "cell_type": "code",
      "metadata": {
        "id": "RtfFtnExlny-"
      },
      "source": [
        "from keras.preprocessing.image import ImageDataGenerator"
      ],
      "execution_count": null,
      "outputs": []
    },
    {
      "cell_type": "code",
      "metadata": {
        "id": "OZj9UfG0zWZB"
      },
      "source": [
        "from keras import optimizers\n",
        "from keras.models import Sequential\n",
        "from keras.layers import Dense, Conv2D, Flatten, MaxPool2D, Dropout, BatchNormalization,LeakyReLU\n",
        "from keras.preprocessing.image import ImageDataGenerator\n",
        "from keras.callbacks import ModelCheckpoint, Callback, EarlyStopping, ReduceLROnPlateau\n",
        "from tensorflow.keras.utils import to_categorical\n",
        "import tensorflow\n",
        "from sklearn.model_selection import train_test_split\n",
        "from sklearn import metrics"
      ],
      "execution_count": null,
      "outputs": []
    },
    {
      "cell_type": "code",
      "metadata": {
        "id": "prk4UF4hzd_J"
      },
      "source": [
        "import imageio\n",
        "import skimage\n",
        "import skimage.io\n",
        "import skimage.transform\n",
        "from keras.preprocessing.image import ImageDataGenerator, load_img, img_to_array, array_to_img"
      ],
      "execution_count": null,
      "outputs": []
    },
    {
      "cell_type": "code",
      "metadata": {
        "id": "3u9d5HiQx0d6"
      },
      "source": [
        "bees=pd.read_csv('/content/drive/MyDrive/datasets/tmp/bee_data.csv', \n",
        "                index_col=False,  \n",
        "                parse_dates={'datetime':[1,2]},\n",
        "                dtype={'subspecies':'category', 'health':'category','caste':'category'})"
      ],
      "execution_count": null,
      "outputs": []
    },
    {
      "cell_type": "code",
      "metadata": {
        "colab": {
          "base_uri": "https://localhost:8080/",
          "height": 203
        },
        "id": "RqBSNY1ty7jb",
        "outputId": "e722eb1f-ba8e-4031-c873-37088842e8f8"
      },
      "source": [
        "bees.head()"
      ],
      "execution_count": null,
      "outputs": [
        {
          "output_type": "execute_result",
          "data": {
            "text/html": [
              "<div>\n",
              "<style scoped>\n",
              "    .dataframe tbody tr th:only-of-type {\n",
              "        vertical-align: middle;\n",
              "    }\n",
              "\n",
              "    .dataframe tbody tr th {\n",
              "        vertical-align: top;\n",
              "    }\n",
              "\n",
              "    .dataframe thead th {\n",
              "        text-align: right;\n",
              "    }\n",
              "</style>\n",
              "<table border=\"1\" class=\"dataframe\">\n",
              "  <thead>\n",
              "    <tr style=\"text-align: right;\">\n",
              "      <th></th>\n",
              "      <th>datetime</th>\n",
              "      <th>file</th>\n",
              "      <th>location</th>\n",
              "      <th>zip code</th>\n",
              "      <th>subspecies</th>\n",
              "      <th>health</th>\n",
              "      <th>pollen_carrying</th>\n",
              "      <th>caste</th>\n",
              "    </tr>\n",
              "  </thead>\n",
              "  <tbody>\n",
              "    <tr>\n",
              "      <th>0</th>\n",
              "      <td>2018-08-28 16:07:00</td>\n",
              "      <td>041_066.png</td>\n",
              "      <td>Alvin, TX, USA</td>\n",
              "      <td>77511</td>\n",
              "      <td>-1</td>\n",
              "      <td>hive being robbed</td>\n",
              "      <td>False</td>\n",
              "      <td>worker</td>\n",
              "    </tr>\n",
              "    <tr>\n",
              "      <th>1</th>\n",
              "      <td>2018-08-28 16:07:00</td>\n",
              "      <td>041_072.png</td>\n",
              "      <td>Alvin, TX, USA</td>\n",
              "      <td>77511</td>\n",
              "      <td>-1</td>\n",
              "      <td>hive being robbed</td>\n",
              "      <td>False</td>\n",
              "      <td>worker</td>\n",
              "    </tr>\n",
              "    <tr>\n",
              "      <th>2</th>\n",
              "      <td>2018-08-28 16:07:00</td>\n",
              "      <td>041_073.png</td>\n",
              "      <td>Alvin, TX, USA</td>\n",
              "      <td>77511</td>\n",
              "      <td>-1</td>\n",
              "      <td>hive being robbed</td>\n",
              "      <td>False</td>\n",
              "      <td>worker</td>\n",
              "    </tr>\n",
              "    <tr>\n",
              "      <th>3</th>\n",
              "      <td>2018-08-28 16:07:00</td>\n",
              "      <td>041_067.png</td>\n",
              "      <td>Alvin, TX, USA</td>\n",
              "      <td>77511</td>\n",
              "      <td>-1</td>\n",
              "      <td>hive being robbed</td>\n",
              "      <td>False</td>\n",
              "      <td>worker</td>\n",
              "    </tr>\n",
              "    <tr>\n",
              "      <th>4</th>\n",
              "      <td>2018-08-28 16:07:00</td>\n",
              "      <td>041_059.png</td>\n",
              "      <td>Alvin, TX, USA</td>\n",
              "      <td>77511</td>\n",
              "      <td>-1</td>\n",
              "      <td>hive being robbed</td>\n",
              "      <td>False</td>\n",
              "      <td>worker</td>\n",
              "    </tr>\n",
              "  </tbody>\n",
              "</table>\n",
              "</div>"
            ],
            "text/plain": [
              "             datetime         file  ... pollen_carrying   caste\n",
              "0 2018-08-28 16:07:00  041_066.png  ...           False  worker\n",
              "1 2018-08-28 16:07:00  041_072.png  ...           False  worker\n",
              "2 2018-08-28 16:07:00  041_073.png  ...           False  worker\n",
              "3 2018-08-28 16:07:00  041_067.png  ...           False  worker\n",
              "4 2018-08-28 16:07:00  041_059.png  ...           False  worker\n",
              "\n",
              "[5 rows x 8 columns]"
            ]
          },
          "metadata": {},
          "execution_count": 14
        }
      ]
    },
    {
      "cell_type": "code",
      "metadata": {
        "id": "oLeQ1jEQzjk7"
      },
      "source": [
        "img_folder='/content/drive/MyDrive/datasets/tmp/bee_imgs/bee_imgs/'\n",
        "img_width=100\n",
        "img_height=100\n",
        "img_channels=3"
      ],
      "execution_count": null,
      "outputs": []
    },
    {
      "cell_type": "code",
      "metadata": {
        "id": "Ja-kJmnRzJXy"
      },
      "source": [
        "def read_img(file):\n",
        "    img = skimage.io.imread(img_folder + file)\n",
        "    img = skimage.transform.resize(img, (img_width, img_height), mode='reflect')\n",
        "    return img[:,:,:img_channels]"
      ],
      "execution_count": null,
      "outputs": []
    },
    {
      "cell_type": "code",
      "metadata": {
        "colab": {
          "base_uri": "https://localhost:8080/",
          "height": 203
        },
        "id": "jMISJyMbzk4o",
        "outputId": "ed8162a4-9ce4-441f-8cf7-7187143e9265"
      },
      "source": [
        "bees.dropna(inplace=True)\n",
        "#remove null values\n",
        "img_exists = bees['file'].apply(lambda f: os.path.exists(img_folder + f))\n",
        "bees = bees[img_exists]\n",
        "\n",
        "bees.head()"
      ],
      "execution_count": null,
      "outputs": [
        {
          "output_type": "execute_result",
          "data": {
            "text/html": [
              "<div>\n",
              "<style scoped>\n",
              "    .dataframe tbody tr th:only-of-type {\n",
              "        vertical-align: middle;\n",
              "    }\n",
              "\n",
              "    .dataframe tbody tr th {\n",
              "        vertical-align: top;\n",
              "    }\n",
              "\n",
              "    .dataframe thead th {\n",
              "        text-align: right;\n",
              "    }\n",
              "</style>\n",
              "<table border=\"1\" class=\"dataframe\">\n",
              "  <thead>\n",
              "    <tr style=\"text-align: right;\">\n",
              "      <th></th>\n",
              "      <th>datetime</th>\n",
              "      <th>file</th>\n",
              "      <th>location</th>\n",
              "      <th>zip code</th>\n",
              "      <th>subspecies</th>\n",
              "      <th>health</th>\n",
              "      <th>pollen_carrying</th>\n",
              "      <th>caste</th>\n",
              "    </tr>\n",
              "  </thead>\n",
              "  <tbody>\n",
              "    <tr>\n",
              "      <th>0</th>\n",
              "      <td>2018-08-28 16:07:00</td>\n",
              "      <td>041_066.png</td>\n",
              "      <td>Alvin, TX, USA</td>\n",
              "      <td>77511</td>\n",
              "      <td>-1</td>\n",
              "      <td>hive being robbed</td>\n",
              "      <td>False</td>\n",
              "      <td>worker</td>\n",
              "    </tr>\n",
              "    <tr>\n",
              "      <th>1</th>\n",
              "      <td>2018-08-28 16:07:00</td>\n",
              "      <td>041_072.png</td>\n",
              "      <td>Alvin, TX, USA</td>\n",
              "      <td>77511</td>\n",
              "      <td>-1</td>\n",
              "      <td>hive being robbed</td>\n",
              "      <td>False</td>\n",
              "      <td>worker</td>\n",
              "    </tr>\n",
              "    <tr>\n",
              "      <th>2</th>\n",
              "      <td>2018-08-28 16:07:00</td>\n",
              "      <td>041_073.png</td>\n",
              "      <td>Alvin, TX, USA</td>\n",
              "      <td>77511</td>\n",
              "      <td>-1</td>\n",
              "      <td>hive being robbed</td>\n",
              "      <td>False</td>\n",
              "      <td>worker</td>\n",
              "    </tr>\n",
              "    <tr>\n",
              "      <th>3</th>\n",
              "      <td>2018-08-28 16:07:00</td>\n",
              "      <td>041_067.png</td>\n",
              "      <td>Alvin, TX, USA</td>\n",
              "      <td>77511</td>\n",
              "      <td>-1</td>\n",
              "      <td>hive being robbed</td>\n",
              "      <td>False</td>\n",
              "      <td>worker</td>\n",
              "    </tr>\n",
              "    <tr>\n",
              "      <th>4</th>\n",
              "      <td>2018-08-28 16:07:00</td>\n",
              "      <td>041_059.png</td>\n",
              "      <td>Alvin, TX, USA</td>\n",
              "      <td>77511</td>\n",
              "      <td>-1</td>\n",
              "      <td>hive being robbed</td>\n",
              "      <td>False</td>\n",
              "      <td>worker</td>\n",
              "    </tr>\n",
              "  </tbody>\n",
              "</table>\n",
              "</div>"
            ],
            "text/plain": [
              "             datetime         file  ... pollen_carrying   caste\n",
              "0 2018-08-28 16:07:00  041_066.png  ...           False  worker\n",
              "1 2018-08-28 16:07:00  041_072.png  ...           False  worker\n",
              "2 2018-08-28 16:07:00  041_073.png  ...           False  worker\n",
              "3 2018-08-28 16:07:00  041_067.png  ...           False  worker\n",
              "4 2018-08-28 16:07:00  041_059.png  ...           False  worker\n",
              "\n",
              "[5 rows x 8 columns]"
            ]
          },
          "metadata": {},
          "execution_count": 17
        }
      ]
    },
    {
      "cell_type": "code",
      "metadata": {
        "colab": {
          "base_uri": "https://localhost:8080/"
        },
        "id": "TDR5Ubd_6eEu",
        "outputId": "03d281b7-afe0-48bf-87f7-20d069b6b4cf"
      },
      "source": [
        "bees['health'].unique"
      ],
      "execution_count": null,
      "outputs": [
        {
          "output_type": "execute_result",
          "data": {
            "text/plain": [
              "<bound method Series.unique of 0       hive being robbed\n",
              "1       hive being robbed\n",
              "2       hive being robbed\n",
              "3       hive being robbed\n",
              "4       hive being robbed\n",
              "              ...        \n",
              "5167              healthy\n",
              "5168              healthy\n",
              "5169              healthy\n",
              "5170              healthy\n",
              "5171              healthy\n",
              "Name: health, Length: 5172, dtype: category\n",
              "Categories (6, object): ['Varroa, Small Hive Beetles', 'ant problems', 'few varrao, hive beetles', 'healthy',\n",
              "                         'hive being robbed', 'missing queen']>"
            ]
          },
          "metadata": {},
          "execution_count": 18
        }
      ]
    },
    {
      "cell_type": "markdown",
      "metadata": {
        "id": "1rnIPNBZzXBB"
      },
      "source": [
        "We see that There exist 6 different categories for bee health."
      ]
    },
    {
      "cell_type": "code",
      "metadata": {
        "id": "BoQIFROizlNi"
      },
      "source": [
        "def split_balance(bees, field_name):\n",
        "    #split into train test and val\n",
        "    train_bees, test_bees = train_test_split(bees, random_state=24)\n",
        "    train_bees, val_bees = train_test_split(train_bees, test_size=0.1, random_state=24)\n",
        "\n",
        "    ncat_bal = int(len(train_bees)/train_bees[field_name].cat.categories.size)\n",
        "    train_bees_bal = train_bees.groupby(field_name, as_index=False).apply(lambda g:  g.sample(ncat_bal, replace=True)).reset_index(drop=True)\n",
        "    return(train_bees_bal, val_bees, test_bees)"
      ],
      "execution_count": null,
      "outputs": []
    },
    {
      "cell_type": "code",
      "metadata": {
        "id": "yEuGgZ1l0WYa"
      },
      "source": [
        "train_bees, val_bees, test_bees = split_balance(bees, 'health')"
      ],
      "execution_count": null,
      "outputs": []
    },
    {
      "cell_type": "code",
      "metadata": {
        "colab": {
          "base_uri": "https://localhost:8080/",
          "height": 203
        },
        "id": "tkuvecHi0d2E",
        "outputId": "69369eaf-31b5-417f-fb78-1e1b9aa289c0"
      },
      "source": [
        "train_bees.head()"
      ],
      "execution_count": null,
      "outputs": [
        {
          "output_type": "execute_result",
          "data": {
            "text/html": [
              "<div>\n",
              "<style scoped>\n",
              "    .dataframe tbody tr th:only-of-type {\n",
              "        vertical-align: middle;\n",
              "    }\n",
              "\n",
              "    .dataframe tbody tr th {\n",
              "        vertical-align: top;\n",
              "    }\n",
              "\n",
              "    .dataframe thead th {\n",
              "        text-align: right;\n",
              "    }\n",
              "</style>\n",
              "<table border=\"1\" class=\"dataframe\">\n",
              "  <thead>\n",
              "    <tr style=\"text-align: right;\">\n",
              "      <th></th>\n",
              "      <th>datetime</th>\n",
              "      <th>file</th>\n",
              "      <th>location</th>\n",
              "      <th>zip code</th>\n",
              "      <th>subspecies</th>\n",
              "      <th>health</th>\n",
              "      <th>pollen_carrying</th>\n",
              "      <th>caste</th>\n",
              "    </tr>\n",
              "  </thead>\n",
              "  <tbody>\n",
              "    <tr>\n",
              "      <th>0</th>\n",
              "      <td>2018-08-18 12:30:00</td>\n",
              "      <td>038_201.png</td>\n",
              "      <td>Athens, Georgia, USA</td>\n",
              "      <td>30607</td>\n",
              "      <td>1 Mixed local stock 2</td>\n",
              "      <td>Varroa, Small Hive Beetles</td>\n",
              "      <td>False</td>\n",
              "      <td>worker</td>\n",
              "    </tr>\n",
              "    <tr>\n",
              "      <th>1</th>\n",
              "      <td>2018-08-18 12:30:00</td>\n",
              "      <td>038_366.png</td>\n",
              "      <td>Athens, Georgia, USA</td>\n",
              "      <td>30607</td>\n",
              "      <td>1 Mixed local stock 2</td>\n",
              "      <td>Varroa, Small Hive Beetles</td>\n",
              "      <td>False</td>\n",
              "      <td>worker</td>\n",
              "    </tr>\n",
              "    <tr>\n",
              "      <th>2</th>\n",
              "      <td>2018-08-18 12:30:00</td>\n",
              "      <td>038_257.png</td>\n",
              "      <td>Athens, Georgia, USA</td>\n",
              "      <td>30607</td>\n",
              "      <td>1 Mixed local stock 2</td>\n",
              "      <td>Varroa, Small Hive Beetles</td>\n",
              "      <td>False</td>\n",
              "      <td>worker</td>\n",
              "    </tr>\n",
              "    <tr>\n",
              "      <th>3</th>\n",
              "      <td>2018-08-18 12:30:00</td>\n",
              "      <td>038_000.png</td>\n",
              "      <td>Athens, Georgia, USA</td>\n",
              "      <td>30607</td>\n",
              "      <td>1 Mixed local stock 2</td>\n",
              "      <td>Varroa, Small Hive Beetles</td>\n",
              "      <td>False</td>\n",
              "      <td>worker</td>\n",
              "    </tr>\n",
              "    <tr>\n",
              "      <th>4</th>\n",
              "      <td>2018-08-18 12:30:00</td>\n",
              "      <td>038_081.png</td>\n",
              "      <td>Athens, Georgia, USA</td>\n",
              "      <td>30607</td>\n",
              "      <td>1 Mixed local stock 2</td>\n",
              "      <td>Varroa, Small Hive Beetles</td>\n",
              "      <td>False</td>\n",
              "      <td>worker</td>\n",
              "    </tr>\n",
              "  </tbody>\n",
              "</table>\n",
              "</div>"
            ],
            "text/plain": [
              "             datetime         file  ... pollen_carrying   caste\n",
              "0 2018-08-18 12:30:00  038_201.png  ...           False  worker\n",
              "1 2018-08-18 12:30:00  038_366.png  ...           False  worker\n",
              "2 2018-08-18 12:30:00  038_257.png  ...           False  worker\n",
              "3 2018-08-18 12:30:00  038_000.png  ...           False  worker\n",
              "4 2018-08-18 12:30:00  038_081.png  ...           False  worker\n",
              "\n",
              "[5 rows x 8 columns]"
            ]
          },
          "metadata": {},
          "execution_count": 21
        }
      ]
    },
    {
      "cell_type": "code",
      "metadata": {
        "id": "uAAlywiI0pJW"
      },
      "source": [
        "\n",
        "train_bee_images = np.stack(train_bees['file'].apply(read_img))\n",
        "train_label = pd.get_dummies(train_bees['health'], drop_first=False)"
      ],
      "execution_count": null,
      "outputs": []
    },
    {
      "cell_type": "code",
      "metadata": {
        "colab": {
          "base_uri": "https://localhost:8080/"
        },
        "id": "_SBeRJu71xpc",
        "outputId": "dab01dfd-2601-4cca-b9ac-e17586d5d153"
      },
      "source": [
        "train_bee_images[0].shape"
      ],
      "execution_count": null,
      "outputs": [
        {
          "output_type": "execute_result",
          "data": {
            "text/plain": [
              "(100, 100, 3)"
            ]
          },
          "metadata": {},
          "execution_count": 23
        }
      ]
    },
    {
      "cell_type": "code",
      "metadata": {
        "id": "UH2cdmbu1_ba"
      },
      "source": [
        "val_bee_images = np.stack(val_bees['file'].apply(read_img))\n",
        "val_label = pd.get_dummies(val_bees['health'], drop_first=False)"
      ],
      "execution_count": null,
      "outputs": []
    },
    {
      "cell_type": "code",
      "metadata": {
        "id": "56e1BhYG2vxT"
      },
      "source": [
        "test_bee_images = np.stack(test_bees['file'].apply(read_img))\n",
        "test_label = pd.get_dummies(test_bees['health'], drop_first=False)"
      ],
      "execution_count": null,
      "outputs": []
    },
    {
      "cell_type": "code",
      "metadata": {
        "id": "Z-qnStDo21su"
      },
      "source": [
        "train_datagen = ImageDataGenerator(shear_range = 0.2,\n",
        "                                   zoom_range = 0.2,\n",
        "                                   horizontal_flip = True,\n",
        "                                   vertical_flip = True,\n",
        "                                   rotation_range = 180)\n",
        "test_datagen = ImageDataGenerator()\n",
        "val_datagen = ImageDataGenerator()"
      ],
      "execution_count": null,
      "outputs": []
    },
    {
      "cell_type": "code",
      "metadata": {
        "id": "YctxObH-Q_DD"
      },
      "source": [
        "\n",
        "train_datagen.fit(train_bee_images)\n",
        "test_datagen.fit(test_bee_images)\n",
        "val_datagen.fit(val_bee_images)"
      ],
      "execution_count": null,
      "outputs": []
    },
    {
      "cell_type": "code",
      "metadata": {
        "id": "Ic_wEWThQ33n"
      },
      "source": [
        "\n",
        "train_generator = train_datagen.flow(train_bee_images,train_label, batch_size=60)\n",
        "val_generator  = val_datagen.flow(val_bee_images, val_label,batch_size=60)\n",
        "test_generator = test_datagen.flow(test_bee_images, test_label,batch_size = 60)"
      ],
      "execution_count": null,
      "outputs": []
    },
    {
      "cell_type": "markdown",
      "metadata": {
        "id": "f7X71ck51_QP"
      },
      "source": [
        "Used pickle to save variables in files to be called back later."
      ]
    },
    {
      "cell_type": "code",
      "metadata": {
        "id": "JUjTpg3LOwUw"
      },
      "source": [
        "import pickle\n"
      ],
      "execution_count": null,
      "outputs": []
    },
    {
      "cell_type": "code",
      "metadata": {
        "id": "xIy0bQp20C6E"
      },
      "source": [
        "\n",
        "with open('/content/drive/MyDrive/datasets/tmp/bee_imgs/bee_imgs/train_img.pickle', 'wb') as f:\n",
        "    pickle.dump(train_bee_images, f)\n",
        "with open('/content/drive/MyDrive/datasets/tmp/bee_imgs/bee_imgs/val_img.pickle', 'wb') as f:\n",
        "    pickle.dump(val_bee_images, f)\n",
        "with open('/content/drive/MyDrive/datasets/tmp/bee_imgs/bee_imgs/test_img.pickle', 'wb') as f:\n",
        "    pickle.dump(test_bee_images, f)\n",
        "with open('/content/drive/MyDrive/datasets/tmp/bee_imgs/bee_imgs/train_labels.pickle', 'wb') as f:\n",
        "    pickle.dump(train_label, f)\n",
        "with open('/content/drive/MyDrive/datasets/tmp/bee_imgs/bee_imgs/val_labels.pickle', 'wb') as f:\n",
        "    pickle.dump(val_label, f)\n",
        "with open('/content/drive/MyDrive/datasets/tmp/bee_imgs/bee_imgs/test_labels.pickle', 'wb') as f:\n",
        "    pickle.dump(test_label, f)"
      ],
      "execution_count": null,
      "outputs": []
    },
    {
      "cell_type": "code",
      "metadata": {
        "colab": {
          "base_uri": "https://localhost:8080/",
          "height": 203
        },
        "id": "wPPMLV6iOvsf",
        "outputId": "e46e9902-77c1-46fd-f001-6a41c067d110"
      },
      "source": [
        "#test pickle working\n",
        "with open('/content/drive/MyDrive/datasets/tmp/bee_imgs/bee_imgs/test_labels.pickle', 'rb') as f:\n",
        "    p = pickle.load( f)\n",
        "p.head()"
      ],
      "execution_count": null,
      "outputs": [
        {
          "output_type": "execute_result",
          "data": {
            "text/html": [
              "<div>\n",
              "<style scoped>\n",
              "    .dataframe tbody tr th:only-of-type {\n",
              "        vertical-align: middle;\n",
              "    }\n",
              "\n",
              "    .dataframe tbody tr th {\n",
              "        vertical-align: top;\n",
              "    }\n",
              "\n",
              "    .dataframe thead th {\n",
              "        text-align: right;\n",
              "    }\n",
              "</style>\n",
              "<table border=\"1\" class=\"dataframe\">\n",
              "  <thead>\n",
              "    <tr style=\"text-align: right;\">\n",
              "      <th></th>\n",
              "      <th>Varroa, Small Hive Beetles</th>\n",
              "      <th>ant problems</th>\n",
              "      <th>few varrao, hive beetles</th>\n",
              "      <th>healthy</th>\n",
              "      <th>hive being robbed</th>\n",
              "      <th>missing queen</th>\n",
              "    </tr>\n",
              "  </thead>\n",
              "  <tbody>\n",
              "    <tr>\n",
              "      <th>752</th>\n",
              "      <td>0</td>\n",
              "      <td>1</td>\n",
              "      <td>0</td>\n",
              "      <td>0</td>\n",
              "      <td>0</td>\n",
              "      <td>0</td>\n",
              "    </tr>\n",
              "    <tr>\n",
              "      <th>451</th>\n",
              "      <td>0</td>\n",
              "      <td>0</td>\n",
              "      <td>0</td>\n",
              "      <td>1</td>\n",
              "      <td>0</td>\n",
              "      <td>0</td>\n",
              "    </tr>\n",
              "    <tr>\n",
              "      <th>4381</th>\n",
              "      <td>1</td>\n",
              "      <td>0</td>\n",
              "      <td>0</td>\n",
              "      <td>0</td>\n",
              "      <td>0</td>\n",
              "      <td>0</td>\n",
              "    </tr>\n",
              "    <tr>\n",
              "      <th>2623</th>\n",
              "      <td>0</td>\n",
              "      <td>0</td>\n",
              "      <td>0</td>\n",
              "      <td>1</td>\n",
              "      <td>0</td>\n",
              "      <td>0</td>\n",
              "    </tr>\n",
              "    <tr>\n",
              "      <th>3543</th>\n",
              "      <td>0</td>\n",
              "      <td>0</td>\n",
              "      <td>0</td>\n",
              "      <td>1</td>\n",
              "      <td>0</td>\n",
              "      <td>0</td>\n",
              "    </tr>\n",
              "  </tbody>\n",
              "</table>\n",
              "</div>"
            ],
            "text/plain": [
              "      Varroa, Small Hive Beetles  ...  missing queen\n",
              "752                            0  ...              0\n",
              "451                            0  ...              0\n",
              "4381                           1  ...              0\n",
              "2623                           0  ...              0\n",
              "3543                           0  ...              0\n",
              "\n",
              "[5 rows x 6 columns]"
            ]
          },
          "metadata": {},
          "execution_count": 18
        }
      ]
    },
    {
      "cell_type": "markdown",
      "metadata": {
        "id": "awbw6INW2B7_"
      },
      "source": [
        "Setup Baseline CNN with pooling layers."
      ]
    },
    {
      "cell_type": "code",
      "metadata": {
        "id": "Fg9b4CxZ3aV2"
      },
      "source": [
        "model2 =Sequential()\n",
        "model2.add(tf.keras.layers.Conv2D(16, (3,3), activation=\"relu\", input_shape=(100,100,3), padding=\"same\"))\n",
        "model2.add(tf.keras.layers.MaxPooling2D(2,2))\n",
        "model2.add(tf.keras.layers.Conv2D(16, (3,3), activation=\"relu\", padding=\"same\"))\n",
        "model2.add(tf.keras.layers.Flatten())\n",
        "model2.add(tf.keras.layers.Dropout(0.4))\n",
        "model2.add(tf.keras.layers.Dense(64, activation=\"relu\"))\n",
        "model2.add(tf.keras.layers.Dense(6,activation = 'softmax'))"
      ],
      "execution_count": null,
      "outputs": []
    },
    {
      "cell_type": "code",
      "metadata": {
        "id": "Ew2Gt261RFXO"
      },
      "source": [
        "loss_fn = tf.keras.losses.CategoricalCrossentropy()\n",
        "optimizer_fn = tf.keras.optimizers.Adam(learning_rate=0.001)"
      ],
      "execution_count": null,
      "outputs": []
    },
    {
      "cell_type": "code",
      "metadata": {
        "id": "wTmmn_i7Nro1"
      },
      "source": [
        "model2.compile(optimizer=optimizer_fn,\n",
        "              loss=loss_fn,\n",
        "              metrics=['accuracy'])"
      ],
      "execution_count": null,
      "outputs": []
    },
    {
      "cell_type": "markdown",
      "metadata": {
        "id": "Xy7Rf8K92JN6"
      },
      "source": [
        "Set model callbacks"
      ]
    },
    {
      "cell_type": "code",
      "metadata": {
        "id": "3fzRXS1hNPfG"
      },
      "source": [
        "earlystopper2 = EarlyStopping(monitor='loss', patience=10, verbose=1)\n",
        "checkpointer2 = ModelCheckpoint('best_model2.h5'\n",
        "                                ,monitor='val_accuracy'\n",
        "                                ,verbose=1\n",
        "                                ,save_best_only=True\n",
        "                                ,save_weights_only=True)"
      ],
      "execution_count": null,
      "outputs": []
    },
    {
      "cell_type": "markdown",
      "metadata": {
        "id": "NbwmnkpO2Odd"
      },
      "source": [
        "Train model on augmented data"
      ]
    },
    {
      "cell_type": "code",
      "metadata": {
        "colab": {
          "base_uri": "https://localhost:8080/"
        },
        "id": "F27x1lDeNAcf",
        "outputId": "88f3bcfd-e650-4b03-f6d6-e15563b32c9a"
      },
      "source": [
        "training2 = model2.fit(train_generator\n",
        "                        ,epochs=20\n",
        "                        ,validation_data=val_generator\n",
        "                        ,steps_per_epoch=50\n",
        "                        ,callbacks=[earlystopper2, checkpointer2])"
      ],
      "execution_count": null,
      "outputs": [
        {
          "output_type": "stream",
          "name": "stdout",
          "text": [
            "Epoch 1/20\n",
            "50/50 [==============================] - 8s 169ms/step - loss: 0.7392 - accuracy: 0.6813 - val_loss: 0.8686 - val_accuracy: 0.6469\n",
            "\n",
            "Epoch 00001: val_accuracy improved from -inf to 0.64691, saving model to best_model2.h5\n",
            "Epoch 2/20\n",
            "50/50 [==============================] - 8s 166ms/step - loss: 0.5833 - accuracy: 0.7327 - val_loss: 0.8302 - val_accuracy: 0.5876\n",
            "\n",
            "Epoch 00002: val_accuracy did not improve from 0.64691\n",
            "Epoch 3/20\n",
            "50/50 [==============================] - 8s 163ms/step - loss: 0.4944 - accuracy: 0.7716 - val_loss: 0.6616 - val_accuracy: 0.7706\n",
            "\n",
            "Epoch 00003: val_accuracy improved from 0.64691 to 0.77062, saving model to best_model2.h5\n",
            "Epoch 4/20\n",
            "50/50 [==============================] - 8s 164ms/step - loss: 0.4517 - accuracy: 0.7895 - val_loss: 0.5329 - val_accuracy: 0.7990\n",
            "\n",
            "Epoch 00004: val_accuracy improved from 0.77062 to 0.79897, saving model to best_model2.h5\n",
            "Epoch 5/20\n",
            "50/50 [==============================] - 8s 163ms/step - loss: 0.4093 - accuracy: 0.7977 - val_loss: 0.7660 - val_accuracy: 0.6933\n",
            "\n",
            "Epoch 00005: val_accuracy did not improve from 0.79897\n",
            "Epoch 6/20\n",
            "50/50 [==============================] - 8s 164ms/step - loss: 0.3951 - accuracy: 0.8225 - val_loss: 0.5951 - val_accuracy: 0.7552\n",
            "\n",
            "Epoch 00006: val_accuracy did not improve from 0.79897\n",
            "Epoch 7/20\n",
            "50/50 [==============================] - 8s 164ms/step - loss: 0.3742 - accuracy: 0.8208 - val_loss: 0.4675 - val_accuracy: 0.8196\n",
            "\n",
            "Epoch 00007: val_accuracy improved from 0.79897 to 0.81959, saving model to best_model2.h5\n",
            "Epoch 8/20\n",
            "50/50 [==============================] - 8s 162ms/step - loss: 0.3897 - accuracy: 0.8133 - val_loss: 0.4572 - val_accuracy: 0.7990\n",
            "\n",
            "Epoch 00008: val_accuracy did not improve from 0.81959\n",
            "Epoch 9/20\n",
            "50/50 [==============================] - 8s 166ms/step - loss: 0.3695 - accuracy: 0.8190 - val_loss: 0.5182 - val_accuracy: 0.8015\n",
            "\n",
            "Epoch 00009: val_accuracy did not improve from 0.81959\n",
            "Epoch 10/20\n",
            "50/50 [==============================] - 8s 163ms/step - loss: 0.3259 - accuracy: 0.8411 - val_loss: 0.3749 - val_accuracy: 0.8531\n",
            "\n",
            "Epoch 00010: val_accuracy improved from 0.81959 to 0.85309, saving model to best_model2.h5\n",
            "Epoch 11/20\n",
            "50/50 [==============================] - 8s 163ms/step - loss: 0.3117 - accuracy: 0.8564 - val_loss: 0.4825 - val_accuracy: 0.8093\n",
            "\n",
            "Epoch 00011: val_accuracy did not improve from 0.85309\n",
            "Epoch 12/20\n",
            "50/50 [==============================] - 8s 162ms/step - loss: 0.3023 - accuracy: 0.8571 - val_loss: 0.3920 - val_accuracy: 0.8402\n",
            "\n",
            "Epoch 00012: val_accuracy did not improve from 0.85309\n",
            "Epoch 13/20\n",
            "50/50 [==============================] - 8s 163ms/step - loss: 0.3380 - accuracy: 0.8422 - val_loss: 0.3334 - val_accuracy: 0.8737\n",
            "\n",
            "Epoch 00013: val_accuracy improved from 0.85309 to 0.87371, saving model to best_model2.h5\n",
            "Epoch 14/20\n",
            "50/50 [==============================] - 8s 166ms/step - loss: 0.3010 - accuracy: 0.8583 - val_loss: 0.3400 - val_accuracy: 0.8686\n",
            "\n",
            "Epoch 00014: val_accuracy did not improve from 0.87371\n",
            "Epoch 15/20\n",
            "50/50 [==============================] - 8s 163ms/step - loss: 0.3199 - accuracy: 0.8466 - val_loss: 0.5617 - val_accuracy: 0.7912\n",
            "\n",
            "Epoch 00015: val_accuracy did not improve from 0.87371\n",
            "Epoch 16/20\n",
            "50/50 [==============================] - 8s 162ms/step - loss: 0.3132 - accuracy: 0.8439 - val_loss: 0.3354 - val_accuracy: 0.8634\n",
            "\n",
            "Epoch 00016: val_accuracy did not improve from 0.87371\n",
            "Epoch 17/20\n",
            "50/50 [==============================] - 8s 163ms/step - loss: 0.2778 - accuracy: 0.8649 - val_loss: 0.3057 - val_accuracy: 0.8814\n",
            "\n",
            "Epoch 00017: val_accuracy improved from 0.87371 to 0.88144, saving model to best_model2.h5\n",
            "Epoch 18/20\n",
            "50/50 [==============================] - 8s 164ms/step - loss: 0.2856 - accuracy: 0.8578 - val_loss: 0.3397 - val_accuracy: 0.8660\n",
            "\n",
            "Epoch 00018: val_accuracy did not improve from 0.88144\n",
            "Epoch 19/20\n",
            "50/50 [==============================] - 8s 163ms/step - loss: 0.2564 - accuracy: 0.8741 - val_loss: 0.3419 - val_accuracy: 0.8531\n",
            "\n",
            "Epoch 00019: val_accuracy did not improve from 0.88144\n",
            "Epoch 20/20\n",
            "50/50 [==============================] - 8s 163ms/step - loss: 0.2531 - accuracy: 0.8778 - val_loss: 0.2783 - val_accuracy: 0.8840\n",
            "\n",
            "Epoch 00020: val_accuracy improved from 0.88144 to 0.88402, saving model to best_model2.h5\n"
          ]
        }
      ]
    },
    {
      "cell_type": "code",
      "metadata": {
        "id": "ZsdHyafsRNXm"
      },
      "source": [
        "test_pred = model2.predict(test_bee_images)"
      ],
      "execution_count": null,
      "outputs": []
    },
    {
      "cell_type": "code",
      "metadata": {
        "colab": {
          "base_uri": "https://localhost:8080/",
          "height": 417
        },
        "id": "V0JD7ArsRo3K",
        "outputId": "a5fac5c8-0cbb-45b0-958b-f69614845403"
      },
      "source": [
        "test_label"
      ],
      "execution_count": null,
      "outputs": [
        {
          "output_type": "execute_result",
          "data": {
            "text/html": [
              "<div>\n",
              "<style scoped>\n",
              "    .dataframe tbody tr th:only-of-type {\n",
              "        vertical-align: middle;\n",
              "    }\n",
              "\n",
              "    .dataframe tbody tr th {\n",
              "        vertical-align: top;\n",
              "    }\n",
              "\n",
              "    .dataframe thead th {\n",
              "        text-align: right;\n",
              "    }\n",
              "</style>\n",
              "<table border=\"1\" class=\"dataframe\">\n",
              "  <thead>\n",
              "    <tr style=\"text-align: right;\">\n",
              "      <th></th>\n",
              "      <th>Varroa, Small Hive Beetles</th>\n",
              "      <th>ant problems</th>\n",
              "      <th>few varrao, hive beetles</th>\n",
              "      <th>healthy</th>\n",
              "      <th>hive being robbed</th>\n",
              "      <th>missing queen</th>\n",
              "    </tr>\n",
              "  </thead>\n",
              "  <tbody>\n",
              "    <tr>\n",
              "      <th>752</th>\n",
              "      <td>0</td>\n",
              "      <td>1</td>\n",
              "      <td>0</td>\n",
              "      <td>0</td>\n",
              "      <td>0</td>\n",
              "      <td>0</td>\n",
              "    </tr>\n",
              "    <tr>\n",
              "      <th>451</th>\n",
              "      <td>0</td>\n",
              "      <td>0</td>\n",
              "      <td>0</td>\n",
              "      <td>1</td>\n",
              "      <td>0</td>\n",
              "      <td>0</td>\n",
              "    </tr>\n",
              "    <tr>\n",
              "      <th>4381</th>\n",
              "      <td>1</td>\n",
              "      <td>0</td>\n",
              "      <td>0</td>\n",
              "      <td>0</td>\n",
              "      <td>0</td>\n",
              "      <td>0</td>\n",
              "    </tr>\n",
              "    <tr>\n",
              "      <th>2623</th>\n",
              "      <td>0</td>\n",
              "      <td>0</td>\n",
              "      <td>0</td>\n",
              "      <td>1</td>\n",
              "      <td>0</td>\n",
              "      <td>0</td>\n",
              "    </tr>\n",
              "    <tr>\n",
              "      <th>3543</th>\n",
              "      <td>0</td>\n",
              "      <td>0</td>\n",
              "      <td>0</td>\n",
              "      <td>1</td>\n",
              "      <td>0</td>\n",
              "      <td>0</td>\n",
              "    </tr>\n",
              "    <tr>\n",
              "      <th>...</th>\n",
              "      <td>...</td>\n",
              "      <td>...</td>\n",
              "      <td>...</td>\n",
              "      <td>...</td>\n",
              "      <td>...</td>\n",
              "      <td>...</td>\n",
              "    </tr>\n",
              "    <tr>\n",
              "      <th>4348</th>\n",
              "      <td>1</td>\n",
              "      <td>0</td>\n",
              "      <td>0</td>\n",
              "      <td>0</td>\n",
              "      <td>0</td>\n",
              "      <td>0</td>\n",
              "    </tr>\n",
              "    <tr>\n",
              "      <th>3608</th>\n",
              "      <td>0</td>\n",
              "      <td>0</td>\n",
              "      <td>0</td>\n",
              "      <td>1</td>\n",
              "      <td>0</td>\n",
              "      <td>0</td>\n",
              "    </tr>\n",
              "    <tr>\n",
              "      <th>367</th>\n",
              "      <td>0</td>\n",
              "      <td>0</td>\n",
              "      <td>0</td>\n",
              "      <td>1</td>\n",
              "      <td>0</td>\n",
              "      <td>0</td>\n",
              "    </tr>\n",
              "    <tr>\n",
              "      <th>1738</th>\n",
              "      <td>0</td>\n",
              "      <td>0</td>\n",
              "      <td>1</td>\n",
              "      <td>0</td>\n",
              "      <td>0</td>\n",
              "      <td>0</td>\n",
              "    </tr>\n",
              "    <tr>\n",
              "      <th>3092</th>\n",
              "      <td>0</td>\n",
              "      <td>0</td>\n",
              "      <td>0</td>\n",
              "      <td>0</td>\n",
              "      <td>1</td>\n",
              "      <td>0</td>\n",
              "    </tr>\n",
              "  </tbody>\n",
              "</table>\n",
              "<p>1293 rows × 6 columns</p>\n",
              "</div>"
            ],
            "text/plain": [
              "      Varroa, Small Hive Beetles  ...  missing queen\n",
              "752                            0  ...              0\n",
              "451                            0  ...              0\n",
              "4381                           1  ...              0\n",
              "2623                           0  ...              0\n",
              "3543                           0  ...              0\n",
              "...                          ...  ...            ...\n",
              "4348                           1  ...              0\n",
              "3608                           0  ...              0\n",
              "367                            0  ...              0\n",
              "1738                           0  ...              0\n",
              "3092                           0  ...              0\n",
              "\n",
              "[1293 rows x 6 columns]"
            ]
          },
          "metadata": {},
          "execution_count": 102
        }
      ]
    },
    {
      "cell_type": "code",
      "metadata": {
        "colab": {
          "base_uri": "https://localhost:8080/"
        },
        "id": "ZXn0ZntXSwGL",
        "outputId": "6594ea65-a048-45fd-d844-eb14899f7861"
      },
      "source": [
        "test_pred"
      ],
      "execution_count": null,
      "outputs": [
        {
          "output_type": "execute_result",
          "data": {
            "text/plain": [
              "array([[8.14442508e-14, 9.99265134e-01, 2.87083412e-06, 2.37704255e-04,\n",
              "        4.94201202e-04, 3.41914951e-12],\n",
              "       [6.63769495e-13, 7.61241070e-04, 9.81939491e-04, 9.97792482e-01,\n",
              "        4.64308047e-04, 2.11503815e-13],\n",
              "       [7.22403944e-01, 5.76601538e-04, 2.76309907e-01, 7.08217558e-04,\n",
              "        1.22392407e-06, 3.95630444e-08],\n",
              "       ...,\n",
              "       [2.86751214e-14, 1.42673356e-03, 1.29709661e-04, 9.95239615e-01,\n",
              "        3.20392940e-03, 1.30975200e-13],\n",
              "       [5.06965339e-01, 8.52507146e-05, 4.92745847e-01, 2.01433621e-04,\n",
              "        2.11373776e-06, 1.87443550e-09],\n",
              "       [4.00211859e-18, 2.93680427e-11, 1.23005625e-11, 1.08886370e-03,\n",
              "        9.98478949e-01, 4.32160974e-04]], dtype=float32)"
            ]
          },
          "metadata": {},
          "execution_count": 108
        }
      ]
    },
    {
      "cell_type": "code",
      "metadata": {
        "colab": {
          "base_uri": "https://localhost:8080/"
        },
        "id": "fFAgouAHSh0t",
        "outputId": "b03a7de3-a97f-479e-e0c1-738a96abbf6f"
      },
      "source": [
        "test_pred_o = np.argmax(test_pred,axis = 1)\n",
        "test_pred_o"
      ],
      "execution_count": null,
      "outputs": [
        {
          "output_type": "execute_result",
          "data": {
            "text/plain": [
              "array([1, 3, 0, ..., 3, 0, 4])"
            ]
          },
          "metadata": {},
          "execution_count": 109
        }
      ]
    },
    {
      "cell_type": "code",
      "metadata": {
        "colab": {
          "base_uri": "https://localhost:8080/",
          "height": 417
        },
        "id": "pmduqx4tTAyK",
        "outputId": "4c7fef73-d5d1-4c60-8285-860a54cff01e"
      },
      "source": [
        "test_label"
      ],
      "execution_count": null,
      "outputs": [
        {
          "output_type": "execute_result",
          "data": {
            "text/html": [
              "<div>\n",
              "<style scoped>\n",
              "    .dataframe tbody tr th:only-of-type {\n",
              "        vertical-align: middle;\n",
              "    }\n",
              "\n",
              "    .dataframe tbody tr th {\n",
              "        vertical-align: top;\n",
              "    }\n",
              "\n",
              "    .dataframe thead th {\n",
              "        text-align: right;\n",
              "    }\n",
              "</style>\n",
              "<table border=\"1\" class=\"dataframe\">\n",
              "  <thead>\n",
              "    <tr style=\"text-align: right;\">\n",
              "      <th></th>\n",
              "      <th>Varroa, Small Hive Beetles</th>\n",
              "      <th>ant problems</th>\n",
              "      <th>few varrao, hive beetles</th>\n",
              "      <th>healthy</th>\n",
              "      <th>hive being robbed</th>\n",
              "      <th>missing queen</th>\n",
              "    </tr>\n",
              "  </thead>\n",
              "  <tbody>\n",
              "    <tr>\n",
              "      <th>752</th>\n",
              "      <td>0</td>\n",
              "      <td>1</td>\n",
              "      <td>0</td>\n",
              "      <td>0</td>\n",
              "      <td>0</td>\n",
              "      <td>0</td>\n",
              "    </tr>\n",
              "    <tr>\n",
              "      <th>451</th>\n",
              "      <td>0</td>\n",
              "      <td>0</td>\n",
              "      <td>0</td>\n",
              "      <td>1</td>\n",
              "      <td>0</td>\n",
              "      <td>0</td>\n",
              "    </tr>\n",
              "    <tr>\n",
              "      <th>4381</th>\n",
              "      <td>1</td>\n",
              "      <td>0</td>\n",
              "      <td>0</td>\n",
              "      <td>0</td>\n",
              "      <td>0</td>\n",
              "      <td>0</td>\n",
              "    </tr>\n",
              "    <tr>\n",
              "      <th>2623</th>\n",
              "      <td>0</td>\n",
              "      <td>0</td>\n",
              "      <td>0</td>\n",
              "      <td>1</td>\n",
              "      <td>0</td>\n",
              "      <td>0</td>\n",
              "    </tr>\n",
              "    <tr>\n",
              "      <th>3543</th>\n",
              "      <td>0</td>\n",
              "      <td>0</td>\n",
              "      <td>0</td>\n",
              "      <td>1</td>\n",
              "      <td>0</td>\n",
              "      <td>0</td>\n",
              "    </tr>\n",
              "    <tr>\n",
              "      <th>...</th>\n",
              "      <td>...</td>\n",
              "      <td>...</td>\n",
              "      <td>...</td>\n",
              "      <td>...</td>\n",
              "      <td>...</td>\n",
              "      <td>...</td>\n",
              "    </tr>\n",
              "    <tr>\n",
              "      <th>4348</th>\n",
              "      <td>1</td>\n",
              "      <td>0</td>\n",
              "      <td>0</td>\n",
              "      <td>0</td>\n",
              "      <td>0</td>\n",
              "      <td>0</td>\n",
              "    </tr>\n",
              "    <tr>\n",
              "      <th>3608</th>\n",
              "      <td>0</td>\n",
              "      <td>0</td>\n",
              "      <td>0</td>\n",
              "      <td>1</td>\n",
              "      <td>0</td>\n",
              "      <td>0</td>\n",
              "    </tr>\n",
              "    <tr>\n",
              "      <th>367</th>\n",
              "      <td>0</td>\n",
              "      <td>0</td>\n",
              "      <td>0</td>\n",
              "      <td>1</td>\n",
              "      <td>0</td>\n",
              "      <td>0</td>\n",
              "    </tr>\n",
              "    <tr>\n",
              "      <th>1738</th>\n",
              "      <td>0</td>\n",
              "      <td>0</td>\n",
              "      <td>1</td>\n",
              "      <td>0</td>\n",
              "      <td>0</td>\n",
              "      <td>0</td>\n",
              "    </tr>\n",
              "    <tr>\n",
              "      <th>3092</th>\n",
              "      <td>0</td>\n",
              "      <td>0</td>\n",
              "      <td>0</td>\n",
              "      <td>0</td>\n",
              "      <td>1</td>\n",
              "      <td>0</td>\n",
              "    </tr>\n",
              "  </tbody>\n",
              "</table>\n",
              "<p>1293 rows × 6 columns</p>\n",
              "</div>"
            ],
            "text/plain": [
              "      Varroa, Small Hive Beetles  ...  missing queen\n",
              "752                            0  ...              0\n",
              "451                            0  ...              0\n",
              "4381                           1  ...              0\n",
              "2623                           0  ...              0\n",
              "3543                           0  ...              0\n",
              "...                          ...  ...            ...\n",
              "4348                           1  ...              0\n",
              "3608                           0  ...              0\n",
              "367                            0  ...              0\n",
              "1738                           0  ...              0\n",
              "3092                           0  ...              0\n",
              "\n",
              "[1293 rows x 6 columns]"
            ]
          },
          "metadata": {},
          "execution_count": 111
        }
      ]
    },
    {
      "cell_type": "code",
      "metadata": {
        "id": "-aNXir-_Sitx"
      },
      "source": [
        "test_label_o = np.argmax(test_label.values,axis = 1)\n"
      ],
      "execution_count": null,
      "outputs": []
    },
    {
      "cell_type": "code",
      "metadata": {
        "colab": {
          "base_uri": "https://localhost:8080/"
        },
        "id": "Ld5EW1NiS8cp",
        "outputId": "0e357eef-367b-4a86-cc53-29fd17f3b84b"
      },
      "source": [
        "test_label_o"
      ],
      "execution_count": null,
      "outputs": [
        {
          "output_type": "execute_result",
          "data": {
            "text/plain": [
              "array([1, 3, 0, ..., 3, 2, 4])"
            ]
          },
          "metadata": {},
          "execution_count": 113
        }
      ]
    },
    {
      "cell_type": "code",
      "metadata": {
        "colab": {
          "base_uri": "https://localhost:8080/"
        },
        "id": "lnmLSNGDTHlO",
        "outputId": "60fb93a0-fb32-4a9b-fa1a-a7b4e343332b"
      },
      "source": [
        "print(metrics.classification_report(test_label_o, test_pred_o, target_names=test_label.columns))"
      ],
      "execution_count": null,
      "outputs": [
        {
          "output_type": "stream",
          "name": "stdout",
          "text": [
            "                            precision    recall  f1-score   support\n",
            "\n",
            "Varroa, Small Hive Beetles       0.59      0.69      0.63       102\n",
            "              ant problems       0.89      1.00      0.94       117\n",
            "  few varrao, hive beetles       0.65      0.60      0.63       139\n",
            "                   healthy       0.99      0.93      0.96       866\n",
            "         hive being robbed       0.68      0.97      0.80        61\n",
            "             missing queen       0.73      1.00      0.84         8\n",
            "\n",
            "                  accuracy                           0.89      1293\n",
            "                 macro avg       0.75      0.87      0.80      1293\n",
            "              weighted avg       0.90      0.89      0.89      1293\n",
            "\n"
          ]
        }
      ]
    },
    {
      "cell_type": "markdown",
      "metadata": {
        "id": "7Q8qt87jTbek"
      },
      "source": [
        "RAYTUNE to optimize hyperparameters"
      ]
    },
    {
      "cell_type": "code",
      "metadata": {
        "colab": {
          "base_uri": "https://localhost:8080/"
        },
        "id": "6NYdcPxBdaU0",
        "outputId": "6760dac7-0519-48aa-9936-175311742a5b"
      },
      "source": [
        "print(\"Setting up colab environment\")\n",
        "!pip uninstall -y -q pyarrow\n",
        "!pip install -q -U ray[tune]\n",
        "!pip install -q ray[debug]\n",
        "\n",
        "# A hack to force the runtime to restart, needed to include the above dependencies.\n",
        "print(\"Done installing! Restarting via forced crash (this is not an issue).\")\n",
        "import os\n",
        "os._exit(0)"
      ],
      "execution_count": null,
      "outputs": [
        {
          "output_type": "stream",
          "name": "stdout",
          "text": [
            "Setting up colab environment\n",
            "\u001b[K     |████████████████████████████████| 49.6 MB 6.6 kB/s \n",
            "\u001b[K     |████████████████████████████████| 72 kB 543 kB/s \n",
            "\u001b[K     |████████████████████████████████| 124 kB 59.9 MB/s \n",
            "\u001b[?25h\u001b[33mWARNING: ray 1.6.0 does not provide the extra 'debug'\u001b[0m\n"
          ]
        }
      ]
    },
    {
      "cell_type": "markdown",
      "metadata": {
        "id": "KINWxU-x0Ynx"
      },
      "source": [
        "Make create_model function with options to substitute from hyperparameter dictionary"
      ]
    },
    {
      "cell_type": "code",
      "metadata": {
        "id": "e31CICRiTbL5"
      },
      "source": [
        "def create_model(learning_rate, cn1, dense1,act):\n",
        "    model3 =Sequential()\n",
        "    model3.add(tf.keras.layers.Conv2D(16, (3,3), activation=act, input_shape=(100,100,3), padding=\"same\",name='c0'))\n",
        "    model3.add(tf.keras.layers.MaxPooling2D(2,2))\n",
        "    model3.add(tf.keras.layers.Conv2D(int(cn1), (3,3), activation=act, padding=\"same\",name='c2'))\n",
        "    model3.add(tf.keras.layers.Flatten())\n",
        "    model3.add(tf.keras.layers.Dropout(0.4))\n",
        "    model3.add(tf.keras.layers.Dense(int(dense1), activation=act,name='c3'))\n",
        "    model3.add(tf.keras.layers.Dense(6,activation = 'softmax',name='output'))\n",
        "    optimizer_fn = tf.keras.optimizers.Adam(learning_rate=learning_rate)\n",
        "    model3.compile(optimizer_fn, loss='categorical_crossentropy', metrics=['accuracy'])\n",
        "    return model3"
      ],
      "execution_count": null,
      "outputs": []
    },
    {
      "cell_type": "code",
      "metadata": {
        "colab": {
          "base_uri": "https://localhost:8080/",
          "height": 313
        },
        "id": "1T1rWILgoGL6",
        "outputId": "dbf1dd44-ef7d-4e74-ceba-13428b59a7fa"
      },
      "source": [
        "import ray\n",
        "import pickle"
      ],
      "execution_count": null,
      "outputs": [
        {
          "output_type": "error",
          "ename": "ModuleNotFoundError",
          "evalue": "ignored",
          "traceback": [
            "\u001b[0;31m---------------------------------------------------------------------------\u001b[0m",
            "\u001b[0;31mModuleNotFoundError\u001b[0m                       Traceback (most recent call last)",
            "\u001b[0;32m<ipython-input-1-c0ce4c78ac74>\u001b[0m in \u001b[0;36m<module>\u001b[0;34m()\u001b[0m\n\u001b[0;32m----> 1\u001b[0;31m \u001b[0;32mimport\u001b[0m \u001b[0mray\u001b[0m\u001b[0;34m\u001b[0m\u001b[0;34m\u001b[0m\u001b[0m\n\u001b[0m\u001b[1;32m      2\u001b[0m \u001b[0;32mimport\u001b[0m \u001b[0mpickle\u001b[0m\u001b[0;34m\u001b[0m\u001b[0;34m\u001b[0m\u001b[0m\n",
            "\u001b[0;31mModuleNotFoundError\u001b[0m: No module named 'ray'",
            "",
            "\u001b[0;31m---------------------------------------------------------------------------\u001b[0;32m\nNOTE: If your import is failing due to a missing package, you can\nmanually install dependencies using either !pip or !apt.\n\nTo view examples of installing some common dependencies, click the\n\"Open Examples\" button below.\n\u001b[0;31m---------------------------------------------------------------------------\u001b[0m\n"
          ],
          "errorDetails": {
            "actions": [
              {
                "action": "open_url",
                "actionText": "Open Examples",
                "url": "/notebooks/snippets/importing_libraries.ipynb"
              }
            ]
          }
        }
      ]
    },
    {
      "cell_type": "code",
      "metadata": {
        "id": "cRsVVec2dBBG"
      },
      "source": [
        "import tensorflow.keras as keras\n",
        "from ray import tune\n",
        "\n",
        "\n",
        "class TuneReporterCallback(keras.callbacks.Callback):\n",
        "    \"\"\"Tune Callback for Keras.\n",
        "    \n",
        "    The callback is invoked every epoch.\n",
        "    \"\"\"\n",
        "\n",
        "    def __init__(self, logs={}):\n",
        "        self.iteration = 0\n",
        "        super(TuneReporterCallback, self).__init__()\n",
        "\n",
        "    def on_epoch_end(self, batch, logs={}):\n",
        "        self.iteration += 1\n",
        "        tune.report(keras_info=logs, mean_accuracy=logs.get(\"accuracy\"), mean_loss=logs.get(\"loss\"))\n"
      ],
      "execution_count": null,
      "outputs": []
    },
    {
      "cell_type": "markdown",
      "metadata": {
        "id": "M-HpsPdy0lHr"
      },
      "source": [
        "HyperParameter Space"
      ]
    },
    {
      "cell_type": "code",
      "metadata": {
        "id": "YImQKJFVjI0R"
      },
      "source": [
        "hyperparameter_space = {\n",
        "    \"lr\": tune.loguniform(0.001, 0.1),  \n",
        "    \"cn1\": tune.choice([16,32,64]),\n",
        "    \"dense1\": tune.choice([8,16,64]),\n",
        "    'activation': tune.choice([0,1])\n",
        "}"
      ],
      "execution_count": null,
      "outputs": []
    },
    {
      "cell_type": "code",
      "metadata": {
        "id": "MGPh2MTlj0Lr"
      },
      "source": [
        "num_samples = 20"
      ],
      "execution_count": null,
      "outputs": []
    },
    {
      "cell_type": "markdown",
      "metadata": {
        "id": "Fmwu5TFQ0oXJ"
      },
      "source": [
        "Function to pass to tune. Used pickle to load inputs from drive."
      ]
    },
    {
      "cell_type": "code",
      "metadata": {
        "id": "I15OAApBdMGK"
      },
      "source": [
        "def tuner(config):\n",
        "    # print(\"start\")  \n",
        "    with open('/content/drive/MyDrive/datasets/tmp/bee_imgs/bee_imgs/train_img.pickle', 'rb') as f:\n",
        "        train_bee_images = pickle.load( f)\n",
        "    with open('/content/drive/MyDrive/datasets/tmp/bee_imgs/bee_imgs/val_img.pickle', 'rb') as f:\n",
        "        val_bee_images = pickle.load( f)\n",
        "    with open('/content/drive/MyDrive/datasets/tmp/bee_imgs/bee_imgs/test_img.pickle', 'rb') as f:\n",
        "        test_bee_images = pickle.load( f)\n",
        "    with open('/content/drive/MyDrive/datasets/tmp/bee_imgs/bee_imgs/train_labels.pickle', 'rb') as f:\n",
        "        train_label =  pickle.load( f)\n",
        "    with open('/content/drive/MyDrive/datasets/tmp/bee_imgs/bee_imgs/val_labels.pickle', 'rb') as f:\n",
        "        val_label = pickle.load( f)\n",
        "    with open('/content/drive/MyDrive/datasets/tmp/bee_imgs/bee_imgs/test_labels.pickle', 'rb') as f:\n",
        "        test_label = pickle.load( f)\n",
        "    # print(\"reached 2\")\n",
        "    train_datagen = ImageDataGenerator(shear_range = 0.2,\n",
        "                                   zoom_range = 0.2,\n",
        "                                   horizontal_flip = True,\n",
        "                                   vertical_flip = True,\n",
        "                                   rotation_range = 180)\n",
        "    test_datagen = ImageDataGenerator()\n",
        "    val_datagen = ImageDataGenerator()\n",
        "    train_datagen.fit(train_bee_images)\n",
        "    test_datagen.fit(test_bee_images)\n",
        "    val_datagen.fit(val_bee_images)\n",
        "    train_generator = train_datagen.flow(train_bee_images,train_label, batch_size=60)\n",
        "    val_generator  = val_datagen.flow(val_bee_images, val_label,batch_size=60)\n",
        "    test_generator = test_datagen.flow(test_bee_images, test_label,batch_size = 60)\n",
        "    if(config[\"activation\"]==1):\n",
        "      acti = 'tanh'\n",
        "    else:\n",
        "      acti = 'relu'\n",
        "    # print(\"reached 3\")\n",
        "    model = create_model(learning_rate=config[\"lr\"], cn1=config[\"cn1\"], dense1=config[\"dense1\"],act=acti)\n",
        "    checkpoint_callback = ModelCheckpoint(\n",
        "        \"model.h5\", monitor='loss', save_best_only=True, save_freq=2)\n",
        "    \n",
        "    # print(\"reached fit\")\n",
        "    # Train the model\n",
        "    model.fit(\n",
        "        train_generator, \n",
        "        validation_data=val_generator,\n",
        "        verbose=0, batch_size=60, epochs=20, callbacks = [checkpoint_callback, TuneReporterCallback()],steps_per_epoch=50)\n",
        "    \n"
      ],
      "execution_count": null,
      "outputs": []
    },
    {
      "cell_type": "code",
      "metadata": {
        "colab": {
          "base_uri": "https://localhost:8080/",
          "height": 151
        },
        "id": "LSnjo9hQdcwG",
        "outputId": "fbbe517a-5cb0-486e-cd26-084e4b8d2a32"
      },
      "source": [
        "ray.shutdown()\n",
        "ray.init(log_to_driver=False)\n",
        "!rm -rf ~/content/drive/MyDrive/datasets/BeeSet/tune\n",
        "\n",
        "analysis = tune.run(\n",
        "    tuner, \n",
        "    verbose=1, \n",
        "    config=hyperparameter_space,\n",
        "    local_dir=\"/content/drive/MyDrive/datasets/BeeSet/tune\",\n",
        "    name=\"ray_tuned1\",\n",
        "    num_samples=10)\n"
      ],
      "execution_count": null,
      "outputs": [
        {
          "output_type": "display_data",
          "data": {
            "text/html": [
              "== Status ==<br>Memory usage on this node: 1.5/12.7 GiB<br>Using FIFO scheduling algorithm.<br>Resources requested: 0/2 CPUs, 0/0 GPUs, 0.0/7.36 GiB heap, 0.0/3.68 GiB objects<br>Result logdir: /content/drive/MyDrive/datasets/BeeSet/tune/ray_tuned1<br>Number of trials: 10/10 (10 TERMINATED)<br><br>"
            ],
            "text/plain": [
              "<IPython.core.display.HTML object>"
            ]
          },
          "metadata": {}
        },
        {
          "output_type": "stream",
          "name": "stderr",
          "text": [
            "2021-10-04 20:47:33,716\tINFO tune.py:561 -- Total run time: 6718.16 seconds (6718.00 seconds for the tuning loop).\n"
          ]
        }
      ]
    },
    {
      "cell_type": "code",
      "metadata": {
        "id": "OPKzZb7VqyF9"
      },
      "source": [
        "analysis.dataframe()"
      ],
      "execution_count": null,
      "outputs": []
    },
    {
      "cell_type": "code",
      "metadata": {
        "id": "qTf5I3NH3mZ6"
      },
      "source": [
        "from ray.tune import Analysis\n",
        "analysis = Analysis(\n",
        "    experiment_dir='/content/drive/MyDrive/datasets/BeeSet/tune/ray_tuned1',\n",
        "    default_metric=\"validation_accuracy\",\n",
        "    default_mode=\"max\",\n",
        ")"
      ],
      "execution_count": null,
      "outputs": []
    },
    {
      "cell_type": "code",
      "metadata": {
        "colab": {
          "base_uri": "https://localhost:8080/"
        },
        "id": "67HuJB7T3OZf",
        "outputId": "3c41e1c6-b19b-4ee1-bc45-ad5293c2171e"
      },
      "source": [
        "analysis.get_best_config(mode='min',metric=\"mean_accuracy\")"
      ],
      "execution_count": null,
      "outputs": [
        {
          "output_type": "execute_result",
          "data": {
            "text/plain": [
              "{'activation': 1, 'cn1': 64, 'dense1': 16, 'lr': 0.004386627196184818}"
            ]
          },
          "metadata": {},
          "execution_count": 3
        }
      ]
    },
    {
      "cell_type": "code",
      "metadata": {
        "colab": {
          "base_uri": "https://localhost:8080/",
          "height": 337
        },
        "id": "MGfZP7swdA8s",
        "outputId": "02d1be59-2cef-49fb-be6c-869c4bdee5aa"
      },
      "source": [
        "from tensorflow.keras.models import load_model\n",
        "tuned_model = load_model(\"model.h5\")\n",
        "tuned_model.save('/content/drive/MyDrive/datasets/tmp')"
      ],
      "execution_count": null,
      "outputs": [
        {
          "output_type": "error",
          "ename": "OSError",
          "evalue": "ignored",
          "traceback": [
            "\u001b[0;31m---------------------------------------------------------------------------\u001b[0m",
            "\u001b[0;31mOSError\u001b[0m                                   Traceback (most recent call last)",
            "\u001b[0;32m<ipython-input-27-9c2476660ffb>\u001b[0m in \u001b[0;36m<module>\u001b[0;34m()\u001b[0m\n\u001b[1;32m      1\u001b[0m \u001b[0;32mfrom\u001b[0m \u001b[0mtensorflow\u001b[0m\u001b[0;34m.\u001b[0m\u001b[0mkeras\u001b[0m\u001b[0;34m.\u001b[0m\u001b[0mmodels\u001b[0m \u001b[0;32mimport\u001b[0m \u001b[0mload_model\u001b[0m\u001b[0;34m\u001b[0m\u001b[0;34m\u001b[0m\u001b[0m\n\u001b[0;32m----> 2\u001b[0;31m \u001b[0mtuned_model\u001b[0m \u001b[0;34m=\u001b[0m \u001b[0mload_model\u001b[0m\u001b[0;34m(\u001b[0m\u001b[0;34m\"model.h5\"\u001b[0m\u001b[0;34m)\u001b[0m\u001b[0;34m\u001b[0m\u001b[0;34m\u001b[0m\u001b[0m\n\u001b[0m\u001b[1;32m      3\u001b[0m \u001b[0mtuned_model\u001b[0m\u001b[0;34m.\u001b[0m\u001b[0msave\u001b[0m\u001b[0;34m(\u001b[0m\u001b[0;34m'/content/drive/MyDrive/datasets/tmp'\u001b[0m\u001b[0;34m)\u001b[0m\u001b[0;34m\u001b[0m\u001b[0;34m\u001b[0m\u001b[0m\n",
            "\u001b[0;32m/usr/local/lib/python3.7/dist-packages/keras/saving/save.py\u001b[0m in \u001b[0;36mload_model\u001b[0;34m(filepath, custom_objects, compile, options)\u001b[0m\n\u001b[1;32m    203\u001b[0m         \u001b[0mfilepath\u001b[0m \u001b[0;34m=\u001b[0m \u001b[0mpath_to_string\u001b[0m\u001b[0;34m(\u001b[0m\u001b[0mfilepath\u001b[0m\u001b[0;34m)\u001b[0m\u001b[0;34m\u001b[0m\u001b[0;34m\u001b[0m\u001b[0m\n\u001b[1;32m    204\u001b[0m         \u001b[0;32mif\u001b[0m \u001b[0misinstance\u001b[0m\u001b[0;34m(\u001b[0m\u001b[0mfilepath\u001b[0m\u001b[0;34m,\u001b[0m \u001b[0mstr\u001b[0m\u001b[0;34m)\u001b[0m\u001b[0;34m:\u001b[0m\u001b[0;34m\u001b[0m\u001b[0;34m\u001b[0m\u001b[0m\n\u001b[0;32m--> 205\u001b[0;31m           \u001b[0;32mreturn\u001b[0m \u001b[0msaved_model_load\u001b[0m\u001b[0;34m.\u001b[0m\u001b[0mload\u001b[0m\u001b[0;34m(\u001b[0m\u001b[0mfilepath\u001b[0m\u001b[0;34m,\u001b[0m \u001b[0mcompile\u001b[0m\u001b[0;34m,\u001b[0m \u001b[0moptions\u001b[0m\u001b[0;34m)\u001b[0m\u001b[0;34m\u001b[0m\u001b[0;34m\u001b[0m\u001b[0m\n\u001b[0m\u001b[1;32m    206\u001b[0m \u001b[0;34m\u001b[0m\u001b[0m\n\u001b[1;32m    207\u001b[0m   raise IOError(\n",
            "\u001b[0;32m/usr/local/lib/python3.7/dist-packages/keras/saving/saved_model/load.py\u001b[0m in \u001b[0;36mload\u001b[0;34m(path, compile, options)\u001b[0m\n\u001b[1;32m    106\u001b[0m   \u001b[0;31m# Look for metadata file or parse the SavedModel\u001b[0m\u001b[0;34m\u001b[0m\u001b[0;34m\u001b[0m\u001b[0;34m\u001b[0m\u001b[0m\n\u001b[1;32m    107\u001b[0m   \u001b[0mmetadata\u001b[0m \u001b[0;34m=\u001b[0m \u001b[0msaved_metadata_pb2\u001b[0m\u001b[0;34m.\u001b[0m\u001b[0mSavedMetadata\u001b[0m\u001b[0;34m(\u001b[0m\u001b[0;34m)\u001b[0m\u001b[0;34m\u001b[0m\u001b[0;34m\u001b[0m\u001b[0m\n\u001b[0;32m--> 108\u001b[0;31m   \u001b[0mmeta_graph_def\u001b[0m \u001b[0;34m=\u001b[0m \u001b[0mtf\u001b[0m\u001b[0;34m.\u001b[0m\u001b[0m__internal__\u001b[0m\u001b[0;34m.\u001b[0m\u001b[0msaved_model\u001b[0m\u001b[0;34m.\u001b[0m\u001b[0mparse_saved_model\u001b[0m\u001b[0;34m(\u001b[0m\u001b[0mpath\u001b[0m\u001b[0;34m)\u001b[0m\u001b[0;34m.\u001b[0m\u001b[0mmeta_graphs\u001b[0m\u001b[0;34m[\u001b[0m\u001b[0;36m0\u001b[0m\u001b[0;34m]\u001b[0m\u001b[0;34m\u001b[0m\u001b[0;34m\u001b[0m\u001b[0m\n\u001b[0m\u001b[1;32m    109\u001b[0m   \u001b[0mobject_graph_def\u001b[0m \u001b[0;34m=\u001b[0m \u001b[0mmeta_graph_def\u001b[0m\u001b[0;34m.\u001b[0m\u001b[0mobject_graph_def\u001b[0m\u001b[0;34m\u001b[0m\u001b[0;34m\u001b[0m\u001b[0m\n\u001b[1;32m    110\u001b[0m   \u001b[0mpath_to_metadata_pb\u001b[0m \u001b[0;34m=\u001b[0m \u001b[0mos\u001b[0m\u001b[0;34m.\u001b[0m\u001b[0mpath\u001b[0m\u001b[0;34m.\u001b[0m\u001b[0mjoin\u001b[0m\u001b[0;34m(\u001b[0m\u001b[0mpath\u001b[0m\u001b[0;34m,\u001b[0m \u001b[0mconstants\u001b[0m\u001b[0;34m.\u001b[0m\u001b[0mSAVED_METADATA_PATH\u001b[0m\u001b[0;34m)\u001b[0m\u001b[0;34m\u001b[0m\u001b[0;34m\u001b[0m\u001b[0m\n",
            "\u001b[0;32m/usr/local/lib/python3.7/dist-packages/tensorflow/python/saved_model/loader_impl.py\u001b[0m in \u001b[0;36mparse_saved_model\u001b[0;34m(export_dir)\u001b[0m\n\u001b[1;32m    119\u001b[0m         \u001b[0;34m\"SavedModel file does not exist at: %s%s{%s|%s}\"\u001b[0m \u001b[0;34m%\u001b[0m\u001b[0;34m\u001b[0m\u001b[0;34m\u001b[0m\u001b[0m\n\u001b[1;32m    120\u001b[0m         (export_dir, os.path.sep, constants.SAVED_MODEL_FILENAME_PBTXT,\n\u001b[0;32m--> 121\u001b[0;31m          constants.SAVED_MODEL_FILENAME_PB))\n\u001b[0m\u001b[1;32m    122\u001b[0m \u001b[0;34m\u001b[0m\u001b[0m\n\u001b[1;32m    123\u001b[0m \u001b[0;34m\u001b[0m\u001b[0m\n",
            "\u001b[0;31mOSError\u001b[0m: SavedModel file does not exist at: model.h5/{saved_model.pbtxt|saved_model.pb}"
          ]
        }
      ]
    },
    {
      "cell_type": "code",
      "metadata": {
        "id": "dnSNyskUinzY"
      },
      "source": [
        "\n",
        "with open('/content/drive/MyDrive/datasets/tmp/bee_imgs/bee_imgs/test_img.pickle', 'rb') as f:\n",
        "    test_bee_images = pickle.load( f)\n",
        "\n",
        "with open('/content/drive/MyDrive/datasets/tmp/bee_imgs/bee_imgs/test_labels.pickle', 'rb') as f:\n",
        "    test_label = pickle.load( f)\n"
      ],
      "execution_count": null,
      "outputs": []
    },
    {
      "cell_type": "code",
      "metadata": {
        "colab": {
          "base_uri": "https://localhost:8080/",
          "height": 203
        },
        "id": "M8XGFQKxqkdq",
        "outputId": "0bcc3d91-2e3c-4f70-9b8b-ef59badb030d"
      },
      "source": [
        "test_label.head()"
      ],
      "execution_count": null,
      "outputs": [
        {
          "output_type": "execute_result",
          "data": {
            "text/html": [
              "<div>\n",
              "<style scoped>\n",
              "    .dataframe tbody tr th:only-of-type {\n",
              "        vertical-align: middle;\n",
              "    }\n",
              "\n",
              "    .dataframe tbody tr th {\n",
              "        vertical-align: top;\n",
              "    }\n",
              "\n",
              "    .dataframe thead th {\n",
              "        text-align: right;\n",
              "    }\n",
              "</style>\n",
              "<table border=\"1\" class=\"dataframe\">\n",
              "  <thead>\n",
              "    <tr style=\"text-align: right;\">\n",
              "      <th></th>\n",
              "      <th>Varroa, Small Hive Beetles</th>\n",
              "      <th>ant problems</th>\n",
              "      <th>few varrao, hive beetles</th>\n",
              "      <th>healthy</th>\n",
              "      <th>hive being robbed</th>\n",
              "      <th>missing queen</th>\n",
              "    </tr>\n",
              "  </thead>\n",
              "  <tbody>\n",
              "    <tr>\n",
              "      <th>752</th>\n",
              "      <td>0</td>\n",
              "      <td>1</td>\n",
              "      <td>0</td>\n",
              "      <td>0</td>\n",
              "      <td>0</td>\n",
              "      <td>0</td>\n",
              "    </tr>\n",
              "    <tr>\n",
              "      <th>451</th>\n",
              "      <td>0</td>\n",
              "      <td>0</td>\n",
              "      <td>0</td>\n",
              "      <td>1</td>\n",
              "      <td>0</td>\n",
              "      <td>0</td>\n",
              "    </tr>\n",
              "    <tr>\n",
              "      <th>4381</th>\n",
              "      <td>1</td>\n",
              "      <td>0</td>\n",
              "      <td>0</td>\n",
              "      <td>0</td>\n",
              "      <td>0</td>\n",
              "      <td>0</td>\n",
              "    </tr>\n",
              "    <tr>\n",
              "      <th>2623</th>\n",
              "      <td>0</td>\n",
              "      <td>0</td>\n",
              "      <td>0</td>\n",
              "      <td>1</td>\n",
              "      <td>0</td>\n",
              "      <td>0</td>\n",
              "    </tr>\n",
              "    <tr>\n",
              "      <th>3543</th>\n",
              "      <td>0</td>\n",
              "      <td>0</td>\n",
              "      <td>0</td>\n",
              "      <td>1</td>\n",
              "      <td>0</td>\n",
              "      <td>0</td>\n",
              "    </tr>\n",
              "  </tbody>\n",
              "</table>\n",
              "</div>"
            ],
            "text/plain": [
              "      Varroa, Small Hive Beetles  ...  missing queen\n",
              "752                            0  ...              0\n",
              "451                            0  ...              0\n",
              "4381                           1  ...              0\n",
              "2623                           0  ...              0\n",
              "3543                           0  ...              0\n",
              "\n",
              "[5 rows x 6 columns]"
            ]
          },
          "metadata": {},
          "execution_count": 7
        }
      ]
    },
    {
      "cell_type": "code",
      "metadata": {
        "id": "n2S7mUfvq8JY"
      },
      "source": [
        "test_pred = tuned_model.predict(test_bee_images)"
      ],
      "execution_count": null,
      "outputs": []
    },
    {
      "cell_type": "code",
      "metadata": {
        "id": "en8MJTUIv4pK"
      },
      "source": [
        "test_pred_ray = np.argmax(test_pred,axis = 1)\n",
        "test_label_o = np.argmax(test_label.values,axis = 1)\n"
      ],
      "execution_count": null,
      "outputs": []
    },
    {
      "cell_type": "code",
      "metadata": {
        "id": "xpk0Ejnj0MJb"
      },
      "source": [
        "print(metrics.classification_report(test_label_o, test_pred_ray, target_names=test_label.columns))"
      ],
      "execution_count": null,
      "outputs": []
    }
  ]
}